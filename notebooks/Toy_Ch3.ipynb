{
 "cells": [
  {
   "attachments": {},
   "cell_type": "markdown",
   "metadata": {},
   "source": [
    "<br/>\n",
    "<div style=\"text-align: center\">\n",
    "<span style=\"float: left\">\n",
    "    <a href=\"Toy_Ch2.ipynb\">&lt; Previous Chapter</a>\n",
    "</span>\n",
    "<span style=\"\">\n",
    "    <a href=\"table_of_contents.ipynb\">Table Of Contents 🏠</a>\n",
    "</span>\n",
    "</div>"
   ]
  },
  {
   "cell_type": "code",
   "execution_count": 1,
   "metadata": {},
   "outputs": [],
   "source": [
    "from pathlib import Path\n",
    "from io import StringIO\n",
    "\n",
    "from xdsl.ir import Dialect, MLContext\n",
    "from xdsl.dialects.builtin import ModuleOp\n",
    "from xdsl.printer import Printer\n",
    "\n",
    "from toy.dialect import Toy\n",
    "from toy.mlir_gen import MLIRGen\n",
    "from toy.parser import Parser\n",
    "\n",
    "ctx = MLContext()\n",
    "ctx.register_dialect(Toy)\n",
    "\n",
    "def parse(program: str) -> ModuleOp:\n",
    "    mlir_gen = MLIRGen(ctx)\n",
    "    module_ast = Parser(Path('in_memory'), program).parseModule()\n",
    "    module_op = mlir_gen.mlir_gen_module(module_ast)\n",
    "    return module_op\n",
    "\n",
    "def print_module(module: ModuleOp):\n",
    "    Printer(target=Printer.Target.MLIR).print(module)"
   ]
  },
  {
   "cell_type": "code",
   "execution_count": 2,
   "metadata": {},
   "outputs": [],
   "source": [
    "tt = \"\"\"\n",
    "def transpose_transpose(x) {\n",
    "  return transpose(transpose(x));\n",
    "}\n",
    "\"\"\""
   ]
  },
  {
   "cell_type": "code",
   "execution_count": 3,
   "metadata": {},
   "outputs": [
    {
     "name": "stdout",
     "output_type": "stream",
     "text": [
      "\"builtin.module\"() ({\n",
      "  \"toy.func\"() ({\n",
      "  ^0(%0 : tensor<*xi32>):\n",
      "    %1 = \"toy.transpose\"(%0) : (tensor<*xi32>) -> tensor<*xi32>\n",
      "    %2 = \"toy.transpose\"(%1) : (tensor<*xi32>) -> tensor<*xi32>\n",
      "    \"toy.return\"(%2) : (tensor<*xi32>) -> ()\n",
      "  }) {\"sym_name\" = \"transpose_transpose\", \"function_type\" = (tensor<*xi32>) -> tensor<*xi32>, \"sym_visibility\" = \"private\"} : () -> ()\n",
      "}) : () -> ()\n"
     ]
    }
   ],
   "source": [
    "module = parse(tt)\n",
    "print_module(module)"
   ]
  },
  {
   "cell_type": "code",
   "execution_count": 4,
   "metadata": {},
   "outputs": [
    {
     "name": "stdout",
     "output_type": "stream",
     "text": [
      "\"builtin.module\"() ({\n",
      "  \"toy.func\"() ({\n",
      "  ^0(%0 : tensor<*xi32>):\n",
      "    %1 = \"toy.transpose\"(%0) : (tensor<*xi32>) -> tensor<*xi32>\n",
      "    \"toy.return\"(%0) : (tensor<*xi32>) -> ()\n",
      "  }) {\"sym_name\" = \"transpose_transpose\", \"function_type\" = (tensor<*xi32>) -> tensor<*xi32>, \"sym_visibility\" = \"private\"} : () -> ()\n",
      "}) : () -> ()\n"
     ]
    }
   ],
   "source": [
    "from xdsl.pattern_rewriter import (GreedyRewritePatternApplier,\n",
    "                                   PatternRewriteWalker)\n",
    "\n",
    "from toy.rewrites import SimplifyRedundantTranspose\n",
    "\n",
    "PatternRewriteWalker(\n",
    "    GreedyRewritePatternApplier([SimplifyRedundantTranspose()\n",
    "                                    ])).rewrite_module(module)\n",
    "\n",
    "print_module(module)"
   ]
  },
  {
   "cell_type": "code",
   "execution_count": 5,
   "metadata": {},
   "outputs": [
    {
     "name": "stdout",
     "output_type": "stream",
     "text": [
      "\"builtin.module\"() ({\n",
      "  \"toy.func\"() ({\n",
      "  ^0(%0 : tensor<*xi32>):\n",
      "    \"toy.return\"(%0) : (tensor<*xi32>) -> ()\n",
      "  }) {\"sym_name\" = \"transpose_transpose\", \"function_type\" = (tensor<*xi32>) -> tensor<*xi32>, \"sym_visibility\" = \"private\"} : () -> ()\n",
      "}) : () -> ()\n"
     ]
    }
   ],
   "source": [
    "from toy.rewrites import RemoveUnusedOperations\n",
    "\n",
    "PatternRewriteWalker(\n",
    "    GreedyRewritePatternApplier([RemoveUnusedOperations()\n",
    "                                    ])).rewrite_module(module)\n",
    "\n",
    "print_module(module)"
   ]
  },
  {
   "cell_type": "code",
   "execution_count": 6,
   "metadata": {},
   "outputs": [],
   "source": [
    "constants = \"\"\"\n",
    "def main() {\n",
    "  var a<2,1> = [1, 2];\n",
    "  var b<2,1> = a;\n",
    "  var c<2,1> = b;\n",
    "  print(c);\n",
    "}\n",
    "\"\"\""
   ]
  },
  {
   "cell_type": "code",
   "execution_count": 7,
   "metadata": {},
   "outputs": [
    {
     "name": "stdout",
     "output_type": "stream",
     "text": [
      "\"builtin.module\"() ({\n",
      "  \"toy.func\"() ({\n",
      "    %0 = \"toy.constant\"() {\"value\" = dense<[1, 2]> : tensor<2xi32>} : () -> tensor<2xi32>\n",
      "    %1 = \"toy.reshape\"(%0) : (tensor<2xi32>) -> tensor<2x1xi32>\n",
      "    %2 = \"toy.reshape\"(%1) : (tensor<2x1xi32>) -> tensor<2x1xi32>\n",
      "    %3 = \"toy.reshape\"(%2) : (tensor<2x1xi32>) -> tensor<2x1xi32>\n",
      "    \"toy.print\"(%3) : (tensor<2x1xi32>) -> ()\n",
      "    \"toy.return\"() : () -> ()\n",
      "  }) {\"sym_name\" = \"main\", \"function_type\" = () -> ()} : () -> ()\n",
      "}) : () -> ()\n"
     ]
    }
   ],
   "source": [
    "module = parse(constants)\n",
    "print_module(module)"
   ]
  },
  {
   "cell_type": "code",
   "execution_count": 8,
   "metadata": {},
   "outputs": [
    {
     "name": "stdout",
     "output_type": "stream",
     "text": [
      "\"builtin.module\"() ({\n",
      "  \"toy.func\"() ({\n",
      "    %0 = \"toy.constant\"() {\"value\" = dense<[1, 2]> : tensor<2xi32>} : () -> tensor<2xi32>\n",
      "    %1 = \"toy.reshape\"(%0) : (tensor<2xi32>) -> tensor<2x1xi32>\n",
      "    \"toy.print\"(%1) : (tensor<2x1xi32>) -> ()\n",
      "    \"toy.return\"() : () -> ()\n",
      "  }) {\"sym_name\" = \"main\", \"function_type\" = () -> ()} : () -> ()\n",
      "}) : () -> ()\n"
     ]
    }
   ],
   "source": [
    "from toy.rewrites import ReshapeReshapeOptPattern\n",
    "\n",
    "PatternRewriteWalker(\n",
    "    GreedyRewritePatternApplier([ReshapeReshapeOptPattern()])\n",
    "    ).rewrite_module(module)\n",
    "\n",
    "PatternRewriteWalker(\n",
    "    GreedyRewritePatternApplier([RemoveUnusedOperations()])\n",
    "    ).rewrite_module(module)\n",
    "\n",
    "print_module(module)"
   ]
  },
  {
   "cell_type": "code",
   "execution_count": 9,
   "metadata": {},
   "outputs": [
    {
     "name": "stdout",
     "output_type": "stream",
     "text": [
      "\"builtin.module\"() ({\n",
      "  \"toy.func\"() ({\n",
      "    %0 = \"toy.constant\"() {\"value\" = dense<[[1], [2]]> : tensor<2x1xi32>} : () -> tensor<2x1xi32>\n",
      "    \"toy.print\"(%0) : (tensor<2x1xi32>) -> ()\n",
      "    \"toy.return\"() : () -> ()\n",
      "  }) {\"sym_name\" = \"main\", \"function_type\" = () -> ()} : () -> ()\n",
      "}) : () -> ()\n"
     ]
    }
   ],
   "source": [
    "from toy.rewrites import FoldConstantReshapeOptPattern\n",
    "\n",
    "PatternRewriteWalker(\n",
    "    GreedyRewritePatternApplier([FoldConstantReshapeOptPattern()])\n",
    "    ).rewrite_module(module)\n",
    "\n",
    "PatternRewriteWalker(\n",
    "    GreedyRewritePatternApplier([RemoveUnusedOperations()])\n",
    "    ).rewrite_module(module)\n",
    "\n",
    "print_module(module)"
   ]
  },
  {
   "attachments": {},
   "cell_type": "markdown",
   "metadata": {},
   "source": [
    "<br/>\n",
    "<div style=\"text-align: center\">\n",
    "<span style=\"float: left\">\n",
    "    <a href=\"Toy_Ch2.ipynb\">&lt; Previous Chapter</a>\n",
    "</span>\n",
    "<span style=\"\">\n",
    "    <a href=\"table_of_contents.ipynb\">Table Of Contents 🏠</a>\n",
    "</span>\n",
    "</div>"
   ]
  }
 ],
 "metadata": {
  "kernelspec": {
   "display_name": "Python 3",
   "language": "python",
   "name": "python3"
  },
  "language_info": {
   "codemirror_mode": {
    "name": "ipython",
    "version": 3
   },
   "file_extension": ".py",
   "mimetype": "text/x-python",
   "name": "python",
   "nbconvert_exporter": "python",
   "pygments_lexer": "ipython3",
   "version": "3.11.0"
  },
  "vscode": {
   "interpreter": {
    "hash": "916dbcbb3f70747c44a77c7bcd40155683ae19c65e1c03b4aa3499c5328201f1"
   }
  }
 },
 "nbformat": 4,
 "nbformat_minor": 2
}

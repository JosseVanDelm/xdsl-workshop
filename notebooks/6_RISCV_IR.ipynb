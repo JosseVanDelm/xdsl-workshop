{
 "cells": [
  {
   "attachments": {},
   "cell_type": "markdown",
   "id": "56341c66",
   "metadata": {},
   "source": [
    "# Chapter 6: Lowering to RISC-V"
   ]
  },
  {
   "cell_type": "code",
   "execution_count": 1,
   "id": "e07ae44f",
   "metadata": {},
   "outputs": [
    {
     "name": "stdout",
     "output_type": "stream",
     "text": [
      ".bss \n",
      "heap:\n",
      ".space 1024\n",
      ".data \n",
      "main.tensor_shape.0:\n",
      ".word 0x2, 0x2, 0x3\n",
      "main.tensor_data.0:\n",
      ".word 0x6, 0x1, 0x2, 0x3, 0x4, 0x5, 0x6\n",
      "main.tensor_shape.1:\n",
      ".word 0x2, 0x2, 0x3\n",
      "main.tensor_data.1:\n",
      ".word 0x6, 0x1, 0x2, 0x3, 0x4, 0x5, 0x6\n",
      ".text \n",
      "main:\n",
      "\tli\t%0, heap\n",
      "\tli\t%1, main.tensor_shape.0\n",
      "\tli\t%2, main.tensor_data.0\n",
      "\tli\t%3, main.tensor_shape.1\n",
      "\tli\t%4, main.tensor_data.1\n",
      "\tlw\t%5, %2, 0\t\t# Get input count\n",
      "\taddi\t%6, %5, 1\t\t# Input storage int32 count\n",
      "\tbuffer.alloc\t%7, %6\n",
      "\tsw\t%5, %7, 0\t\t# Set result count\n",
      "\taddi\t%8, %2, 4\t\t# lhs storage\n",
      "\taddi\t%9, %4, 4\t\t# lhs storage\n",
      "\taddi\t%10, %7, 4\t\t# destination storage\n",
      "\tbuffer.add\t%5, %8, %10\n",
      "\tbuffer.add\t%5, %9, %10\n",
      "\tli\t%11, 2\n",
      "\tbuffer.alloc\t%12, %11\n",
      "\tsw\t%1, %12, 0\t\t# Set tensor shape\n",
      "\tlw\t%13, %12, 0\n",
      "\tsw\t%7, %12, 4\t\t# Set tensor data\n",
      "\ttoy.print\t%12\n",
      "\tli\ta7, 93\n",
      "\tscall\n",
      "\n"
     ]
    }
   ],
   "source": [
    "from compiler import (parse_toy, print_op, optimise_toy, lower_from_toy, \n",
    "                                  optimise_vir, lower_to_riscv, print_riscv_ssa, emulate_riscv)\n",
    "\n",
    "example = \"\"\"\n",
    "def main() {\n",
    "  var a<2, 3> = [[1, 2, 3], [4, 5, 6]];\n",
    "  var b<6> = [1, 2, 3, 4, 5, 6];\n",
    "  var c<2, 3> = b;\n",
    "  var d = a + c;\n",
    "  print(d);\n",
    "}\n",
    "\"\"\"\n",
    "\n",
    "toy_0 = parse_toy(example)\n",
    "toy_1 = optimise_toy(toy_0)\n",
    "vir_0 = lower_from_toy(toy_1)\n",
    "vir_1 = optimise_vir(vir_0)\n",
    "riscv = lower_to_riscv(vir_1)\n",
    "code = print_riscv_ssa(riscv)\n",
    "\n",
    "print(code)"
   ]
  },
  {
   "cell_type": "code",
   "execution_count": 2,
   "id": "bfee4aef",
   "metadata": {},
   "outputs": [
    {
     "name": "stdout",
     "output_type": "stream",
     "text": [
      "\u001b[34m\u001b[1m[CPU] Started running from example.asm:.text at heap (0x100) + 0x450\u001b[0m\n",
      "Program(name=example.asm,sections=set(),base=['.bss', '.data', '.text'])\n",
      "[[2, 4, 6], [8, 10, 12]]\n",
      "\u001b[34m\u001b[1m[CPU] Program exited with code 0\u001b[0m\n"
     ]
    }
   ],
   "source": [
    "emulate_riscv(code)"
   ]
  }
 ],
 "metadata": {
  "kernelspec": {
   "display_name": "Python 3",
   "language": "python",
   "name": "python3"
  },
  "language_info": {
   "codemirror_mode": {
    "name": "ipython",
    "version": 3
   },
   "file_extension": ".py",
   "mimetype": "text/x-python",
   "name": "python",
   "nbconvert_exporter": "python",
   "pygments_lexer": "ipython3",
   "version": "3.11.0"
  },
  "vscode": {
   "interpreter": {
    "hash": "8c189b674810d96af66833b07bd9a3fc1b15f37c11bf66e9bb86bed0f17aed6a"
   }
  }
 },
 "nbformat": 4,
 "nbformat_minor": 5
}

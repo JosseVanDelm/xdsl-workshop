{
 "cells": [
  {
   "attachments": {},
   "cell_type": "markdown",
   "id": "418b2be2",
   "metadata": {},
   "source": [
    "<br><br/>\n",
    "[Back to table of contents](0_Table_of_Contents.ipynb)"
   ]
  },
  {
   "cell_type": "markdown",
   "id": "56341c66",
   "metadata": {},
   "source": [
    "# Chapter 6: Lowering to RISC-V"
   ]
  },
  {
   "cell_type": "code",
   "execution_count": null,
   "id": "e07ae44f",
   "metadata": {},
   "outputs": [],
   "source": [
    "from compiler import (parse_toy, print_op, optimise_toy, lower_from_toy, \n",
    "                                  optimise_vir, lower_to_riscv, print_riscv_ssa, emulate_riscv)\n",
    "\n",
    "example = \"\"\"\n",
    "def main() {\n",
    "  var a<2, 3> = [[1, 2, 3], [4, 5, 6]];\n",
    "  var b<6> = [1, 2, 3, 4, 5, 6];\n",
    "  var c<2, 3> = b;\n",
    "  var d = a + c;\n",
    "  print(d);\n",
    "}\n",
    "\"\"\"\n",
    "\n",
    "toy_0 = parse_toy(example)\n",
    "toy_1 = optimise_toy(toy_0)\n",
    "vir_0 = lower_from_toy(toy_1)\n",
    "vir_1 = optimise_vir(vir_0)\n",
    "riscv = lower_to_riscv(vir_1)\n",
    "code = print_riscv_ssa(riscv)\n",
    "\n",
    "print(code)"
   ]
  },
  {
   "cell_type": "code",
   "execution_count": null,
   "id": "bfee4aef",
   "metadata": {},
   "outputs": [],
   "source": [
    "emulate_riscv(code)"
   ]
  },
  {
   "attachments": {},
   "cell_type": "markdown",
   "id": "72dba252",
   "metadata": {},
   "source": [
    "<br><br/>\n",
    "[Back to table of contents](0_Table_of_Contents.ipynb)"
   ]
  }
 ],
 "metadata": {
  "kernelspec": {
   "display_name": "venv",
   "language": "python",
   "name": "python3"
  },
  "language_info": {
   "codemirror_mode": {
    "name": "ipython",
    "version": 3
   },
   "file_extension": ".py",
   "mimetype": "text/x-python",
   "name": "python",
   "nbconvert_exporter": "python",
   "pygments_lexer": "ipython3",
   "version": "3.10.7"
  },
  "vscode": {
   "interpreter": {
    "hash": "0d6790b426e2d71827724f01810f2f8f578a9246b0feca7b7fe6fc65e1a78cd0"
   }
  }
 },
 "nbformat": 4,
 "nbformat_minor": 5
}

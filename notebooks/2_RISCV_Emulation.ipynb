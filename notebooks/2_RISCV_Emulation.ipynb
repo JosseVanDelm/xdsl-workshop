{
 "cells": [
  {
   "cell_type": "markdown",
   "id": "56341c66",
   "metadata": {},
   "source": [
    "# Chapter 2: Emulating RISC-V\n",
    "\n",
    "To execute our compiled code, we'll be using [`RiscEmu`](https://github.com/AntonLydike/riscemu),\n",
    "a RISC-V emulator written in Python. It implements the [RISC-V ISA](https://msyksphinz-self.github.io/riscv-isadoc/html/rvi.html#addi),\n",
    "and allows for extending the ISA with custom functions. Here's a simple example\n",
    "of an assembly program:"
   ]
  },
  {
   "cell_type": "code",
   "execution_count": null,
   "id": "e07ae44f",
   "metadata": {},
   "outputs": [],
   "source": [
    "from riscv.emulator_iop import run_riscv\n",
    "\n",
    "riscv_0 = \"\"\"\n",
    ".text                   # The code section begins with .text\n",
    "main:                   # main is the entry point to this program\n",
    "\tli\t%0, 83            # set %0 to 83\n",
    "\tli\t%1, 5             # set %1 to 5\n",
    "\tli\t%2, 10            # set %2 to 10\n",
    "\tmul %3 %0 %1          # set %3 to %0 * %1\n",
    "\tadd %4 %3 %2          # set %4 to %3 + %2\n",
    "\tprint\t%4            # use a debug print instruction\n",
    "\tli\ta7, 93            # a7 is a special register that can be set to the desired syscall code\n",
    "\tscall                 # call exit syscode\n",
    "\"\"\"\n",
    "\n",
    "# The code uses unlimited registers, that we call %0, %1, %2, ... for convenience\n",
    "run_riscv(riscv_0, unlimited_regs=True)"
   ]
  },
  {
   "cell_type": "markdown",
   "id": "9e14dd76",
   "metadata": {},
   "source": [
    "### Extending the RISC-V ISA With an L0 Accelerator\n",
    "\n",
    "`RiscEmu` allows for extending the ISA with custom instructions. These can be seen\n",
    "as rough equivalents of custom hardware accelerators for specialised computation.\n",
    "xDSL can then easily be extended to leverage those instructions.\n",
    "\n",
    "Let's implement a fused multiply add instruction, and call it fmadd, equivalent to\n",
    "the following python code:\n",
    "\n",
    "``` python3\n",
    "def fmadd(a: int, b: int, c: int) -> int:\n",
    "    return a * b + c\n",
    "```"
   ]
  },
  {
   "cell_type": "code",
   "execution_count": null,
   "id": "853ca52d",
   "metadata": {},
   "outputs": [],
   "source": [
    "from riscemu.instructions import InstructionSet, Instruction\n",
    "\n",
    "# Define a RISC-V ISA extension by subclassing InstructionSet\n",
    "class RV_fmadd(InstructionSet):\n",
    "    # each method beginning with instruction_ will be available to the Emulator\n",
    "    \n",
    "    def instruction_fmadd(self, ins: Instruction):\n",
    "        \"\"\"\n",
    "        This method defines the semantics of the fmadd instruction. Let's settle at:\n",
    "        \n",
    "        rd = (rs1 * rs2) + rs3\n",
    "        \"\"\"\n",
    "        # get all register names from the instruction:\n",
    "        rd, rs1, rs2, rs3 = (ins.get_reg(i) for i in (0,1,2,3))\n",
    "        \n",
    "        # we can access the cpu registers through self.regs\n",
    "        \n",
    "        # we can set a register value using self.regs.set(name: str, value: Int32)\n",
    "        self.regs.set(\n",
    "            rd,\n",
    "            (self.regs.get(rs1) * self.regs.get(rs2)) + self.regs.get(rs3)\n",
    "        )\n",
    "\n",
    "riscv_1 = \"\"\"\n",
    ".text                   # The code section begins with .text\n",
    "main:                   # main is the entry point to this program\n",
    "\tli\t%0, 83            # set %0 to 83\n",
    "\tli\t%1, 5             # set %1 to 5\n",
    "\tli\t%2, 10            # set %2 to 10\n",
    "  fmadd %3 %0 %1 %2     # set %3 to %0 * %1 + %2\n",
    "\tprint\t%3              # use a debug print instruction\n",
    "\tli\ta7, 93            # a7 is a special register that can be set to the desired syscall code\n",
    "\tscall                 # call exit syscode\n",
    "\"\"\"\n",
    "\n",
    "run_riscv(riscv_1, extensions=(RV_fmadd,), unlimited_regs=True)"
   ]
  }
 ],
 "metadata": {
  "kernelspec": {
   "display_name": "Python 3 (ipykernel)",
   "language": "python",
   "name": "python3"
  },
  "language_info": {
   "codemirror_mode": {
    "name": "ipython",
    "version": 3
   },
   "file_extension": ".py",
   "mimetype": "text/x-python",
   "name": "python",
   "nbconvert_exporter": "python",
   "pygments_lexer": "ipython3",
   "version": "3.10.9"
  },
  "vscode": {
   "interpreter": {
    "hash": "8c189b674810d96af66833b07bd9a3fc1b15f37c11bf66e9bb86bed0f17aed6a"
   }
  }
 },
 "nbformat": 4,
 "nbformat_minor": 5
}

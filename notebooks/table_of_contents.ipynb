{
 "cells": [
  {
   "attachments": {},
   "cell_type": "markdown",
   "metadata": {},
   "source": [
    "# xDSL WORKSHOP\n",
    "\n",
    "## DISCLAIMER ABOUT JUPYTERLITE\n",
    "\n",
    "If this is running in your webbrowser (e.g. under xdsl-workshop.datenvorr.at), then you are using JupyterLite.\n",
    "\n",
    "A couple of disclaimers about this tech, as it is still very much in experimental and prone to breakage:\n",
    "\n",
    " - You can edit these files, and your browser will save them in local storage.\n",
    " - Therefore you will not receive new files if we push new versions of the notebooks.\n",
    " - The only way to get the latest version of the notebooks is by **clearing your browser cache for this website. THIS WILL DELETE ALL THE NOTEBOOKS YOU SAVED ON THIS WEBSITE.**\n",
    " - Jupyter Lite is broken in some webbrowsers:\n",
    "    - Safari\n",
    "    - Most private browser windows\n",
    " - You can download notebooks from this service, to keep your files. Browser storage is not guaranteed to be stable!\n",
    " - If something breaks, please try to:\n",
    "   1. Restart the Python kernels\n",
    "   2. Clear your cache and reload. ⚠️ This will clear your local changes too.\n",
    "   3. Report as a bug\n",
    " - You can `pip install` in Jupyter Lite, but only pure Python packages. You can do so with `%pip install <package>`, but need to do so on every kernel restart. Some packages are already available, try to `import` first.\n",
    "\n",
    "## Table of contents\n",
    "\n",
    "* [Supporting a custom L0 accelerator with xDSL](riscv_ssa_rewrites.ipynb)\n",
    "* [Build a DSL compiler with xDSL](Toy_Ch1.ipynb)"
   ]
  }
 ],
 "metadata": {
  "kernelspec": {
   "display_name": "venv",
   "language": "python",
   "name": "python3"
  },
  "language_info": {
   "name": "python",
   "version": "3.10.7"
  },
  "orig_nbformat": 4,
  "vscode": {
   "interpreter": {
    "hash": "0d6790b426e2d71827724f01810f2f8f578a9246b0feca7b7fe6fc65e1a78cd0"
   }
  }
 },
 "nbformat": 4,
 "nbformat_minor": 2
}

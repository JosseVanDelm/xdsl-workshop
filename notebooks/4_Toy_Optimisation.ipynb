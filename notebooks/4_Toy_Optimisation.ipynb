{
 "cells": [
  {
   "cell_type": "markdown",
   "id": "56341c66",
   "metadata": {},
   "source": [
    "# Chapter 4: Toy Optimisations\n",
    "\n",
    "As we saw in the previous chapter, the IR generated from the input program has many\n",
    "opportunities for optimisation. In this chapter, we'll implement three optimisations:\n",
    "\n",
    "1. Removing redundant reshapes\n",
    "2. Reshaping constants during compilation time\n",
    "3. Eliminating operations whose results are not used\n",
    "\n",
    "Let's take a look again at our example input:"
   ]
  },
  {
   "cell_type": "code",
   "execution_count": null,
   "id": "e07ae44f",
   "metadata": {},
   "outputs": [],
   "source": [
    "import xdsl, riscemu\n",
    "\n",
    "from compiler import parse_toy, print_op\n",
    "\n",
    "example = \"\"\"\n",
    "def main() {\n",
    "  var a<2, 3> = [[1, 2, 3], [4, 5, 6]];\n",
    "  var b<6> = [1, 2, 3, 4, 5, 6];\n",
    "  var c<2, 3> = b;\n",
    "  var d = a + c;\n",
    "  print(d);\n",
    "}\n",
    "\"\"\"\n",
    "\n",
    "toy = parse_toy(example)\n",
    "print_op(toy)\n",
    "print()"
   ]
  },
  {
   "cell_type": "markdown",
   "id": "a3697e4a",
   "metadata": {},
   "source": [
    "## Redundant Reshapes"
   ]
  },
  {
   "cell_type": "code",
   "execution_count": null,
   "id": "6777bb72",
   "metadata": {},
   "outputs": [],
   "source": [
    "from typing import cast\n",
    "from xdsl.ir import OpResult, Operation\n",
    "from xdsl.dialects.builtin import DenseIntOrFPElementsAttr\n",
    "from xdsl.pattern_rewriter import (op_type_rewrite_pattern, RewritePattern,\n",
    "                                   PatternRewriter, PatternRewriteWalker)\n",
    "\n",
    "\n",
    "import toy.dialect as td\n",
    "\n",
    "class ReshapeReshapeOptPattern(RewritePattern):\n",
    "\n",
    "    @op_type_rewrite_pattern\n",
    "    def match_and_rewrite(self, op: td.ReshapeOp, rewriter: PatternRewriter):\n",
    "        \"\"\"\n",
    "        Reshape(Reshape(x)) = Reshape(x)\n",
    "        \"\"\"\n",
    "        # Look at the input of the current reshape.\n",
    "        reshape_input = op.arg\n",
    "        if not isinstance(reshape_input, OpResult):\n",
    "            # Input was not produced by an operation, could be a function argument\n",
    "            return\n",
    "\n",
    "        reshape_input_op = reshape_input.op\n",
    "        if not isinstance(reshape_input_op, td.ReshapeOp):\n",
    "            # Input defined by another transpose? If not, no match.\n",
    "            return\n",
    "\n",
    "        t = cast(td.TensorTypeI32, op.res.typ)\n",
    "        new_op = td.ReshapeOp.from_input_and_type(reshape_input_op.arg, t)\n",
    "        rewriter.replace_matched_op(new_op)\n",
    "\n",
    "# Use `PatternRewriteWalker` to rewrite all matched operations\n",
    "PatternRewriteWalker(ReshapeReshapeOptPattern()).rewrite_module(toy)\n",
    "print_op(toy)"
   ]
  },
  {
   "cell_type": "markdown",
   "id": "dd49fd84",
   "metadata": {},
   "source": [
    "This looks very similar to what we had before, but is subtly different. Importantly,\n",
    "the reshape that assigns to %4 now takes %2 as input, instead of %3. %3 is now no longer\n",
    "used, and because it's an operation with no observable side-effects, we can avoid doing\n",
    "the work altogether."
   ]
  },
  {
   "cell_type": "code",
   "execution_count": null,
   "id": "c509c618",
   "metadata": {},
   "outputs": [],
   "source": [
    "from toy.rewrites import RemoveUnusedOperations\n",
    "\n",
    "PatternRewriteWalker(RemoveUnusedOperations()).rewrite_module(toy)\n",
    "\n",
    "print_op(toy)"
   ]
  },
  {
   "cell_type": "markdown",
   "id": "e93ecb70",
   "metadata": {},
   "source": [
    "## Fold Constant Reshaping\n",
    "\n",
    "One more opportunity for optimisation is to reshape the constants at compile-time,\n",
    "instead of at runtime. We can do this with another custom `RewritePattern`:"
   ]
  },
  {
   "cell_type": "code",
   "execution_count": null,
   "id": "e1ffdc6a",
   "metadata": {},
   "outputs": [],
   "source": [
    "class FoldConstantReshapeOptPattern(RewritePattern):\n",
    "\n",
    "    @op_type_rewrite_pattern\n",
    "    def match_and_rewrite(self, op: td.ReshapeOp, rewriter: PatternRewriter):\n",
    "        \"\"\"\n",
    "        Reshaping a constant can be done at compile time\n",
    "        \"\"\"\n",
    "        # Look at the input of the current reshape.\n",
    "        reshape_input = op.arg\n",
    "        if not isinstance(reshape_input, OpResult):\n",
    "            # Input was not produced by an operation, could be a function argument\n",
    "            return\n",
    "\n",
    "        reshape_input_op = reshape_input.op\n",
    "        if not isinstance(reshape_input_op, td.ConstantOp):\n",
    "            # Input defined by another transpose? If not, no match.\n",
    "            return\n",
    "\n",
    "        new_value = DenseIntOrFPElementsAttr.create_dense_int(\n",
    "            type=op.res.typ, data=reshape_input_op.value.data.data)\n",
    "        new_op = td.ConstantOp.from_value(new_value)\n",
    "        rewriter.replace_matched_op(new_op)\n",
    "\n",
    "\n",
    "PatternRewriteWalker(FoldConstantReshapeOptPattern()).rewrite_module(toy)\n",
    "print_op(toy)"
   ]
  },
  {
   "cell_type": "code",
   "execution_count": null,
   "id": "af69eccd",
   "metadata": {},
   "outputs": [],
   "source": [
    "# Remove now unused original constants\n",
    "PatternRewriteWalker(RemoveUnusedOperations()).rewrite_module(toy)\n",
    "print_op(toy)"
   ]
  },
  {
   "cell_type": "markdown",
   "id": "5567155c",
   "metadata": {},
   "source": [
    "Now that we've done all the optimisations we could on this level of abstraction, let's\n",
    "go one level lower towards RISC-V."
   ]
  }
 ],
 "metadata": {
  "kernelspec": {
   "display_name": "Python 3 (ipykernel)",
   "language": "python",
   "name": "python3"
  },
  "language_info": {
   "codemirror_mode": {
    "name": "ipython",
    "version": 3
   },
   "file_extension": ".py",
   "mimetype": "text/x-python",
   "name": "python",
   "nbconvert_exporter": "python",
   "pygments_lexer": "ipython3",
   "version": "3.10.9"
  },
  "vscode": {
   "interpreter": {
    "hash": "8c189b674810d96af66833b07bd9a3fc1b15f37c11bf66e9bb86bed0f17aed6a"
   }
  }
 },
 "nbformat": 4,
 "nbformat_minor": 5
}

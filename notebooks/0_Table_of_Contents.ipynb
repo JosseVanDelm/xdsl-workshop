{
 "cells": [
  {
   "attachments": {},
   "cell_type": "markdown",
   "metadata": {},
   "source": [
    "# xDSL WORKSHOP\n",
    "\n",
    "## Table of contents\n",
    "\n",
    "### Part I\n",
    "\n",
    "* [Chapter 1: Emulating RISC-V](1_1_RISCV_Emulation.ipynb)\n",
    "* [Chapter 2: Extending RiscEmu](1_2_RISCV_Extension.ipynb)\n",
    "\n",
    "### Part II\n",
    "\n",
    "* [Chapter 1: A Toy Programming Language](2_3_Toy_Optimisation.ipynb)\n",
    "* [Chapter 2: The Toy Dialect](2_2_Toy_IR.ipynb)\n",
    "* [Chapter 3: Optimising Toy](2_3_Toy_Optimisation.ipynb)\n",
    "* [Chapter 4: Lowering Toy](2_4_Vector_IR.ipynb)\n",
    "* [Chapter 5: Running Toy](2_5_RISCV_IR.ipynb)\n",
    "\n",
    "\n",
    "## DISCLAIMER ABOUT JUPYTERLITE\n",
    "\n",
    "If this is running in your web browser (e.g. under xdsl-workshop.datenvorr.at), then you are using JupyterLite.\n",
    "\n",
    "A couple of disclaimers about this tech, as it is still very much in experimental and prone to breakage:\n",
    "\n",
    " - You can edit these files, and your browser will save them in local storage.\n",
    " - Therefore you will not receive new files if we push new versions of the notebooks.\n",
    " - The only way to get the latest version of the notebooks is by **clearing your browser cache for this website. THIS WILL DELETE ALL THE NOTEBOOKS YOU SAVED ON THIS WEBSITE.**\n",
    " - Jupyter Lite is broken in some webbrowsers:\n",
    "    - Safari\n",
    "    - Most private browser windows\n",
    " - You can download notebooks from this service, to keep your files. Browser storage is not guaranteed to be stable!\n",
    " - If something breaks, please try to:\n",
    "   1. Restart the Python kernels\n",
    "   2. Clear your cache and reload. ⚠️ This will clear your local changes too.\n",
    "   3. Report as a bug\n",
    " - You can `pip install` in Jupyter Lite, but only pure Python packages. You can do so with `%pip install <package>`, but need to do so on every kernel restart. Some packages are already available, try to `import` first.\n"
   ]
  },
  {
   "cell_type": "markdown",
   "metadata": {},
   "source": []
  }
 ],
 "metadata": {
  "kernelspec": {
   "display_name": "Python 3",
   "language": "python",
   "name": "python3"
  },
  "language_info": {
   "name": "python",
   "version": "3.11.0"
  },
  "orig_nbformat": 4,
  "vscode": {
   "interpreter": {
    "hash": "8c189b674810d96af66833b07bd9a3fc1b15f37c11bf66e9bb86bed0f17aed6a"
   }
  }
 },
 "nbformat": 4,
 "nbformat_minor": 2
}

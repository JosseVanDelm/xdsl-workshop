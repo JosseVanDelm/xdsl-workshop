{
 "cells": [
  {
   "attachments": {},
   "cell_type": "markdown",
   "id": "56341c66",
   "metadata": {},
   "source": [
    "# Chapter 1: Toy Language\n",
    "\n",
    "This is an xDSL version of the Toy compiler, as described in the \n",
    "[MLIR tutorial](https://mlir.llvm.org/docs/Tutorials/Toy/). Toy is a simple\n",
    "tensor programming language, with pointwise addition and multiplication. It has \n",
    "compile-time checking for shapes, and a built-in print function to observe\n",
    "the results. In this tutorial we'll compile code to RISC-V assembly, so the\n",
    "tensors will be 32-bit integers. Given that we want to keep things simple, \n",
    "the codegen will be limited to tensors of rank <= 2. All `Values` are \n",
    "immutable (i.e. every operation returns a newly allocated value),\n",
    "and deallocation is automatically managed.\n",
    "\n",
    "Here is a simple Toy program running in a RISC-V emulator, compiled using xDSL.\n",
    "Try changing the program and observing the output:"
   ]
  },
  {
   "cell_type": "code",
   "execution_count": 1,
   "id": "e07ae44f",
   "metadata": {},
   "outputs": [
    {
     "name": "stdout",
     "output_type": "stream",
     "text": [
      "\u001b[34m\u001b[1m[CPU] Started running from example.asm:.text at heap (0x100) + 0x478\u001b[0m\n",
      "Program(name=example.asm,sections=set(),base=['.bss', '.data', '.text'])\n",
      "[[1, 2], [3, 4], [5, 6]]\n",
      "[[2, 4, 6], [8, 10, 12]]\n",
      "\u001b[34m\u001b[1m[CPU] Program exited with code 0\u001b[0m\n"
     ]
    }
   ],
   "source": [
    "from compiler import compile, emulate_riscv\n",
    "\n",
    "program = \"\"\"\n",
    "def main() {\n",
    "  # Define a variable `a` with shape <2, 3>, initialized with the literal value.\n",
    "  # The shape is inferred from the supplied literal.\n",
    "  var a = [[1, 2, 3], [4, 5, 6]];\n",
    "\n",
    "  # b is identical to a, the literal tensor is implicitly reshaped: defining new\n",
    "  # variables is the way to reshape tensors (element count must match).\n",
    "  var b<3, 2> = [1, 2, 3, 4, 5, 6];\n",
    "\n",
    "  # There is a built-in print instruction to display the contents of the tensor\n",
    "  print(b);\n",
    "\n",
    "  # Reshapes are implicit on assignment\n",
    "  var c<2, 3> = b;\n",
    "\n",
    "  # There are + and * operators for pointwise addition and multiplication\n",
    "  var d = a + c;\n",
    "\n",
    "  print(d);\n",
    "}\n",
    "\"\"\"\n",
    "\n",
    "code = compile(program)\n",
    "emulate_riscv(code)"
   ]
  },
  {
   "attachments": {},
   "cell_type": "markdown",
   "id": "9e14dd76",
   "metadata": {},
   "source": [
    "Type checking is statically performed through type inference; the language only\n",
    "requires type declarations to specify tensor shapes when needed."
   ]
  },
  {
   "attachments": {},
   "cell_type": "markdown",
   "id": "025718ef",
   "metadata": {},
   "source": [
    "The code for the lexer is fairly straightforward; it is all in a single file:\n",
    "`toy/lexer.py`. The parser can be found in `toy/parser.py`; it is a recursive \n",
    "descent parser. If you are not familiar with such a Lexer/Parser, these are very similar \n",
    "to the LLVM Kaleidoscope equivalent that are detailed in the first two chapters of the\n",
    "[LLVM Kaleidoscope Tutorial](https://llvm.org/docs/tutorial/MyFirstLanguageFrontend/LangImpl02.html)."
   ]
  }
 ],
 "metadata": {
  "kernelspec": {
   "display_name": "Python 3",
   "language": "python",
   "name": "python3"
  },
  "language_info": {
   "codemirror_mode": {
    "name": "ipython",
    "version": 3
   },
   "file_extension": ".py",
   "mimetype": "text/x-python",
   "name": "python",
   "nbconvert_exporter": "python",
   "pygments_lexer": "ipython3",
   "version": "3.11.0"
  },
  "vscode": {
   "interpreter": {
    "hash": "8c189b674810d96af66833b07bd9a3fc1b15f37c11bf66e9bb86bed0f17aed6a"
   }
  }
 },
 "nbformat": 4,
 "nbformat_minor": 5
}

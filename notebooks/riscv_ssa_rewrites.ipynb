{
 "cells": [
  {
   "attachments": {},
   "cell_type": "markdown",
   "id": "01ece33c",
   "metadata": {},
   "source": [
    "[Back to table of contents](table_of_contents.ipynb)"
   ]
  },
  {
   "cell_type": "markdown",
   "id": "32f4357f",
   "metadata": {},
   "source": [
    "# Supporting a custom L0 RISC-V accelerator\n",
    "\n",
    "\n",
    "Let's assume the following \"fell from the sky\" (a higher plane of abstraction):\n",
    "\n",
    " - A program compiled half-way down to RISC-V Assembly\n",
    " - The format of this program is what we call \"RISC-V SSA\"\n",
    "\n",
    "Let's not worry too much about what all this means, all will be explained in due time. Have faith!\n",
    "\n",
    "Let's have a look at what we got:"
   ]
  },
  {
   "cell_type": "code",
   "execution_count": 1,
   "id": "f97b364a",
   "metadata": {},
   "outputs": [],
   "source": [
    "from riscv.riscv_ssa import *\n",
    "from xdsl.dialects.builtin import ModuleOp\n",
    "from riscv.emulator_iop import run_riscv, print_riscv_ssa\n",
    "\n",
    "p = Printer(target=Printer.Target.MLIR)"
   ]
  },
  {
   "cell_type": "markdown",
   "id": "f8d87bd2",
   "metadata": {},
   "source": [
    "Ah, not this, sorry, these are just some imports! Look at the next cell:\n",
    "\n",
    "## Our SSA RISC-V:"
   ]
  },
  {
   "cell_type": "code",
   "execution_count": 2,
   "id": "d5d2f4dc",
   "metadata": {},
   "outputs": [],
   "source": [
    "module = ModuleOp.from_region_or_ops([\n",
    "    FuncOp.from_ops('main', [\n",
    "        LabelOp.get('main'),\n",
    "        a0  := LIOp.get(83),\n",
    "        a1  := LIOp.get(5),\n",
    "        mul := MULOp.get(a0, a1),\n",
    "        a2  := LIOp.get(10),\n",
    "        add := AddOp.get(mul, a2),\n",
    "        PrintOp.get(add), # debug instruction to print register contents\n",
    "        ReturnOp.get(),\n",
    "    ])\n",
    "])"
   ]
  },
  {
   "cell_type": "markdown",
   "id": "0a211e95",
   "metadata": {},
   "source": [
    "What the heck, this isn't RISC-V! \n",
    "\n",
    "**Let's print it out:**"
   ]
  },
  {
   "cell_type": "code",
   "execution_count": 3,
   "id": "a6f1f68a",
   "metadata": {},
   "outputs": [
    {
     "name": "stdout",
     "output_type": "stream",
     "text": [
      "\"builtin.module\"() ({\n",
      "  \"riscv_ssa.func\"() ({\n",
      "    \"riscv_ssa.label\"() {\"label\" = #riscv.label<main>} : () -> ()\n",
      "    %0 = \"riscv_ssa.li\"() {\"immediate\" = 83 : i32} : () -> #riscv_ssa.reg\n",
      "    %1 = \"riscv_ssa.li\"() {\"immediate\" = 5 : i32} : () -> #riscv_ssa.reg\n",
      "    %2 = \"riscv_ssa.mul\"(%0, %1) : (#riscv_ssa.reg, #riscv_ssa.reg) -> #riscv_ssa.reg\n",
      "    %3 = \"riscv_ssa.li\"() {\"immediate\" = 10 : i32} : () -> #riscv_ssa.reg\n",
      "    %4 = \"riscv_ssa.add\"(%2, %3) : (#riscv_ssa.reg, #riscv_ssa.reg) -> #riscv_ssa.reg\n",
      "    \"riscv_debug.print\"(%4) : (#riscv_ssa.reg) -> ()\n",
      "    \"riscv_ssa.return\"() : () -> ()\n",
      "  }) {\"func_name\" = \"main\"} : () -> ()\n",
      "}) : () -> ()\n"
     ]
    }
   ],
   "source": [
    "p.print(module)"
   ]
  },
  {
   "cell_type": "markdown",
   "id": "fbb48a40",
   "metadata": {},
   "source": [
    "Okay. This *really* doesn't look like RISC-V. But if I look at it for a while, I can see some familiar stuff:\n",
    "\n",
    "\n",
    "```\n",
    "    %0 = \"riscv_ssa.li\"() {\"immediate\" = 82 : i32}\n",
    "    ^^              ^^                   ^^\n",
    "    Result?         Op-name              Argument\n",
    "```\n",
    "\n",
    "We seem to have the `li` pseudo-op here, with an immediate value of `82`. It's result is stored in `%0`.\n",
    "\n",
    "But what register is `%0`?"
   ]
  },
  {
   "cell_type": "markdown",
   "id": "09de4a76",
   "metadata": {},
   "source": [
    "## A short (and incomplete) introduction to SSA\n",
    "\n",
    "SSA stands for \"Static Single Assignment\". \n",
    "\n",
    " - Each variable is assigned exactly once!\n",
    " - We have infinitely many variables (or registers)\n",
    " \n",
    "So `%0` is just an SSA variable. The type of the variable is `#riscv_ssa.reg`, which is a convoluted way of saying that it represents a register. The compiler just hasn't made up its mind yet which specific register it means.\n",
    "\n",
    "Still, we can take a look at our pseudo-RISC-V assembly, by using a function provided in this notebook:"
   ]
  },
  {
   "cell_type": "code",
   "execution_count": 4,
   "id": "8cdec416",
   "metadata": {},
   "outputs": [
    {
     "name": "stdout",
     "output_type": "stream",
     "text": [
      ".bss \n",
      "heap:\n",
      ".space 1024\n",
      ".text \n",
      "main:\n",
      "main:\n",
      "\tli\t%0, 83\n",
      "\tli\t%1, 5\n",
      "\tmul\t%2, %0, %1\n",
      "\tli\t%3, 10\n",
      "\tadd\t%4, %2, %3\n",
      "\tprint\t%4\n",
      "\tli\ta7, 93\n",
      "\tscall\n",
      "\n"
     ]
    }
   ],
   "source": [
    "print(print_riscv_ssa(module))"
   ]
  },
  {
   "cell_type": "markdown",
   "id": "bfffd738",
   "metadata": {},
   "source": [
    "Okay, this isn't exactly valid RISC-V, but it's relatively close. Why don't we just try to run it in a RISC-V emulator?\n",
    "\n",
    "Luckily, this Notebook also provides an emulator that is able to understand RISC-V code with an unlimited number of registers:"
   ]
  },
  {
   "cell_type": "code",
   "execution_count": 5,
   "id": "7478a21f",
   "metadata": {},
   "outputs": [
    {
     "name": "stdout",
     "output_type": "stream",
     "text": [
      "\u001b[36m\u001b[1mWarn: Symbol main defined twice!\n",
      "\u001b[34m\u001b[1m[CPU] Started running from example.asm:.text at heap (0x100) + 0x400\u001b[0m\n",
      "Program(name=example.asm,sections=set(),base=['.bss', '.text'])\n",
      "\u001b[34m\u001b[1m   Running 0x00000500:\u001b[0m li %0, 83\n",
      "\u001b[34m\u001b[1m   Running 0x00000504:\u001b[0m li %1, 5\n",
      "\u001b[34m\u001b[1m   Running 0x00000508:\u001b[0m mul %2, %0, %1\n",
      "\u001b[34m\u001b[1m   Running 0x0000050C:\u001b[0m li %3, 10\n",
      "\u001b[34m\u001b[1m   Running 0x00000510:\u001b[0m add %4, %2, %3\n",
      "\u001b[34m\u001b[1m   Running 0x00000514:\u001b[0m print %4\n",
      "register %4 contains value 425\n",
      "\u001b[34m\u001b[1m   Running 0x00000518:\u001b[0m li a7, 93\n",
      "\u001b[34m\u001b[1m   Running 0x0000051C:\u001b[0m scall \n",
      "\u001b[34m\u001b[1m[CPU] Program exited with code 0\u001b[0m\n"
     ]
    }
   ],
   "source": [
    "run_riscv(print_riscv_ssa(module), unlimited_regs=True)"
   ]
  },
  {
   "cell_type": "markdown",
   "id": "1435f850",
   "metadata": {},
   "source": [
    "## Let's Accelerate This:\n",
    "\n",
    "let's start simple. We want to add a fused multiply-add instruction to our RISC-V ISA.\n",
    "\n",
    "Let's define it's structure as `fmadd  rd, rs1, rs2, rs3`\n",
    "\n",
    "We first need to tell our compiler about the structure of our new instruction. For that we can use `xDSL` and it's interface for defining new Operations called `irdl`:"
   ]
  },
  {
   "cell_type": "code",
   "execution_count": 6,
   "id": "7ab88af6",
   "metadata": {},
   "outputs": [],
   "source": [
    "@irdl_op_definition\n",
    "class FmaddOp(Operation):\n",
    "    name = \"riscv_ssa.fmadd\"\n",
    "    \n",
    "    rd: Annotated[OpResult, RegisterType]\n",
    "    \"\"\"\n",
    "    We return a single value in a register\n",
    "    \"\"\"\n",
    "    \n",
    "    rs1: Annotated[Operand, RegisterType]\n",
    "    rs2: Annotated[Operand, RegisterType]\n",
    "    rs3: Annotated[Operand, RegisterType]\n",
    "    \"\"\"\n",
    "    We take three arguments (Operands), which are also registers.\n",
    "    \"\"\"\n",
    "    \n",
    "    @classmethod\n",
    "    def get(cls, *rs):\n",
    "        \"\"\"\n",
    "        This is a little helper function, to help us construct an fmadd operation\n",
    "        \"\"\"\n",
    "        return cls.build(operands=rs, result_types=[RegisterType()])"
   ]
  },
  {
   "cell_type": "markdown",
   "id": "ad86b973",
   "metadata": {},
   "source": [
    "### How to get the Fmadd into the RISC-V?\n",
    "\n",
    "Now to the interesting part. We need to create a compiler optimization that replaces a `mul` and `add` with an `fmadd`.\n",
    "\n",
    "For that, we can use the xdsl `pattern_rewriter` module, which provides us with a neat interface for defining optimizations:"
   ]
  },
  {
   "cell_type": "code",
   "execution_count": 7,
   "id": "35d5ef90",
   "metadata": {},
   "outputs": [],
   "source": [
    "# Import some things from the xdsl.pattern_rewriter module:\n",
    "from xdsl.pattern_rewriter import (GreedyRewritePatternApplier,\n",
    "                                   PatternRewriter, PatternRewriteWalker,\n",
    "                                   RewritePattern, op_type_rewrite_pattern)\n",
    "\n",
    "# Create our rewriter class:\n",
    "class FmaddOpOptimizer(RewritePattern):\n",
    "    \n",
    "    @op_type_rewrite_pattern\n",
    "    def match_and_rewrite(self, add: AddOp, rewriter: PatternRewriter):\n",
    "        \"\"\"\n",
    "        This method will be called on each AddOp in out RISC-V SSA definition.\n",
    "        \"\"\"\n",
    "        # we iterate over all operands (arguments) of the add instruction\n",
    "        for operand in add.operands:\n",
    "            # and try to find a value that was the result of a MULOp\n",
    "            # also check that it's only used once (by this AddOp) and no one else\n",
    "            if isinstance(operand.op, MULOp) and len(operand.uses) == 1:\n",
    "                # if we find one, we grab its arguments\n",
    "                a, b = operand.op.operands\n",
    "                # and the other argument to our add instruction\n",
    "                other_operand = add.rs1 if operand == add.rs2 else add.rs2\n",
    "\n",
    "                # we then replace the add instruction with a fmadd instruction\n",
    "                rewriter.replace_matched_op(\n",
    "                    FmaddOp.get(a, b, other_operand)\n",
    "                )\n",
    "\n",
    "                # and erase the mul instruction\n",
    "                rewriter.erase_op(operand.op)\n",
    "                break"
   ]
  },
  {
   "cell_type": "markdown",
   "id": "ba2d7ff6",
   "metadata": {},
   "source": [
    "This is a pretty naive rewrite, but it will work for now.\n",
    "\n",
    "Let's apply this rewrite:"
   ]
  },
  {
   "cell_type": "code",
   "execution_count": 8,
   "id": "c0634dfc",
   "metadata": {},
   "outputs": [],
   "source": [
    "PatternRewriteWalker(GreedyRewritePatternApplier([FmaddOpOptimizer()])).rewrite_module(module)"
   ]
  },
  {
   "cell_type": "code",
   "execution_count": 9,
   "id": "c9670dea",
   "metadata": {},
   "outputs": [],
   "source": [
    "# proposed solution to make the cell above nicer:\n",
    "def apply_rewrites(module, *rewriters):\n",
    "    PatternRewriteWalker(GreedyRewritePatternApplier(list(r() for r in rewriters))).rewrite_module(module)\n",
    "\n",
    "# cell above can be written as:\n",
    "#apply_rewrites(module, FmaddOpOptimizer)"
   ]
  },
  {
   "cell_type": "markdown",
   "id": "cbd218ff",
   "metadata": {},
   "source": [
    "Okay, let's look at what happened to our assembly:"
   ]
  },
  {
   "cell_type": "code",
   "execution_count": 10,
   "id": "886738dd",
   "metadata": {},
   "outputs": [
    {
     "name": "stdout",
     "output_type": "stream",
     "text": [
      "\"builtin.module\"() ({\n",
      "  \"riscv_ssa.func\"() ({\n",
      "    \"riscv_ssa.label\"() {\"label\" = #riscv.label<main>} : () -> ()\n",
      "    %0 = \"riscv_ssa.li\"() {\"immediate\" = 83 : i32} : () -> #riscv_ssa.reg\n",
      "    %1 = \"riscv_ssa.li\"() {\"immediate\" = 5 : i32} : () -> #riscv_ssa.reg\n",
      "    %3 = \"riscv_ssa.li\"() {\"immediate\" = 10 : i32} : () -> #riscv_ssa.reg\n",
      "    %5 = \"riscv_ssa.fmadd\"(%0, %1, %3) : (#riscv_ssa.reg, #riscv_ssa.reg, #riscv_ssa.reg) -> #riscv_ssa.reg\n",
      "    \"riscv_debug.print\"(%5) : (#riscv_ssa.reg) -> ()\n",
      "    \"riscv_ssa.return\"() : () -> ()\n",
      "  }) {\"func_name\" = \"main\"} : () -> ()\n",
      "}) : () -> ()\n"
     ]
    }
   ],
   "source": [
    "p.print(module)"
   ]
  },
  {
   "cell_type": "markdown",
   "id": "83e8fe94",
   "metadata": {},
   "source": [
    "We can see, that an `fmadd` operation was inserted, and our `mul` and `add` is done.\n",
    "\n",
    "let's print it as RISC-V SSA Assembly:"
   ]
  },
  {
   "cell_type": "code",
   "execution_count": 11,
   "id": "a82fb8c5",
   "metadata": {},
   "outputs": [
    {
     "name": "stdout",
     "output_type": "stream",
     "text": [
      ".bss \n",
      "heap:\n",
      ".space 1024\n",
      ".text \n",
      "main:\n",
      "main:\n",
      "\tli\t%0, 83\n",
      "\tli\t%1, 5\n",
      "\tli\t%2, 10\n",
      "\tfmadd\t%3, %0, %1, %2\n",
      "\tprint\t%3\n",
      "\tli\ta7, 93\n",
      "\tscall\n",
      "\n"
     ]
    }
   ],
   "source": [
    "print(print_riscv_ssa(module))"
   ]
  },
  {
   "cell_type": "markdown",
   "id": "742516d1",
   "metadata": {},
   "source": [
    "**Success!**"
   ]
  },
  {
   "cell_type": "markdown",
   "id": "1258abfd",
   "metadata": {},
   "source": [
    "## Emulation Time:\n",
    "\n",
    "We defined the syntax of the `fmadd` instruction, but we now need to define the semantics for the emulator:"
   ]
  },
  {
   "cell_type": "code",
   "execution_count": 12,
   "id": "818def73",
   "metadata": {},
   "outputs": [],
   "source": [
    "from riscemu.instructions import InstructionSet, Instruction\n",
    "\n",
    "# Define a RISC-V ISA extension by subclassing InstructionSet\n",
    "class RV_fmadd(InstructionSet):\n",
    "    # each method beginning with instruction_ will be available to the Emulator\n",
    "    \n",
    "    def instruction_fmadd(self, ins: Instruction):\n",
    "        \"\"\"\n",
    "        This method defines the semantics of the fmadd instruction. Let's settle at:\n",
    "        \n",
    "        rd = (rs1 * rs2) + rs3\n",
    "        \"\"\"\n",
    "        # get all register names from the instruction:\n",
    "        rd, rs1, rs2, rs3 = (ins.get_reg(i) for i in (0,1,2,3))\n",
    "        \n",
    "        # we can access the cpu registers through self.regs\n",
    "        \n",
    "        # we can set a register value using self.regs.set(name: str, value: Int32)\n",
    "        self.regs.set(\n",
    "            rd,\n",
    "            (self.regs.get(rs1) * self.regs.get(rs2)) + self.regs.get(rs3)\n",
    "        )"
   ]
  },
  {
   "cell_type": "markdown",
   "id": "6c9501c5",
   "metadata": {},
   "source": [
    "We need to tell the emulator about our new instruction set extension. Luckily, our `run_riscv` function accepts an `extension` argument, that takes a list of extensions for the emulator!\n",
    "\n",
    "Let's give it a go!"
   ]
  },
  {
   "cell_type": "code",
   "execution_count": 13,
   "id": "1bb689a3",
   "metadata": {},
   "outputs": [
    {
     "name": "stdout",
     "output_type": "stream",
     "text": [
      "\u001b[36m\u001b[1mWarn: Symbol main defined twice!\n",
      "\u001b[34m\u001b[1m[CPU] Started running from example.asm:.text at heap (0x100) + 0x400\u001b[0m\n",
      "Program(name=example.asm,sections=set(),base=['.bss', '.text'])\n",
      "\u001b[34m\u001b[1m   Running 0x00000500:\u001b[0m li %0, 83\n",
      "\u001b[34m\u001b[1m   Running 0x00000504:\u001b[0m li %1, 5\n",
      "\u001b[34m\u001b[1m   Running 0x00000508:\u001b[0m li %2, 10\n",
      "\u001b[34m\u001b[1m   Running 0x0000050C:\u001b[0m fmadd %3, %0, %1, %2\n",
      "\u001b[34m\u001b[1m   Running 0x00000510:\u001b[0m print %3\n",
      "register %3 contains value 425\n",
      "\u001b[34m\u001b[1m   Running 0x00000514:\u001b[0m li a7, 93\n",
      "\u001b[34m\u001b[1m   Running 0x00000518:\u001b[0m scall \n",
      "\u001b[34m\u001b[1m[CPU] Program exited with code 0\u001b[0m\n"
     ]
    }
   ],
   "source": [
    "run_riscv(print_riscv_ssa(module), extensions=(RV_fmadd,), unlimited_regs=True)"
   ]
  },
  {
   "cell_type": "markdown",
   "id": "c88727f8",
   "metadata": {},
   "source": [
    "## Success!"
   ]
  },
  {
   "cell_type": "markdown",
   "id": "6fa7dbd4",
   "metadata": {},
   "source": [
    "[Back to table of contents](table_of_contents.ipynb)"
   ]
  }
 ],
 "metadata": {
  "kernelspec": {
   "display_name": "Python 3",
   "language": "python",
   "name": "python3"
  },
  "language_info": {
   "codemirror_mode": {
    "name": "ipython",
    "version": 3
   },
   "file_extension": ".py",
   "mimetype": "text/x-python",
   "name": "python",
   "nbconvert_exporter": "python",
   "pygments_lexer": "ipython3",
   "version": "3.10.7"
  },
  "vscode": {
   "interpreter": {
    "hash": "916dbcbb3f70747c44a77c7bcd40155683ae19c65e1c03b4aa3499c5328201f1"
   }
  }
 },
 "nbformat": 4,
 "nbformat_minor": 5
}

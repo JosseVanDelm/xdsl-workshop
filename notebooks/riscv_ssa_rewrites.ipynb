{
 "cells": [
  {
   "cell_type": "markdown",
   "id": "01ece33c",
   "metadata": {},
   "source": [
    "[Back to table of contents](0_Table_of_Contents.ipynb)"
   ]
  },
  {
   "cell_type": "markdown",
   "id": "32f4357f",
   "metadata": {},
   "source": [
    "# Supporting a custom L0 RISC-V accelerator\n",
    "\n",
    "\n",
    "Let's assume the following \"fell from the sky\" (a higher plane of abstraction):\n",
    "\n",
    " - A program compiled half-way down to RISC-V Assembly\n",
    " - The format of this program is what we call \"RISC-V SSA\"\n",
    "\n",
    "Let's not worry too much about what all this means, all will be explained in due time. Have faith!\n",
    "\n",
    "Let's have a look at what we got:"
   ]
  },
  {
   "cell_type": "code",
   "execution_count": null,
   "id": "d5d2f4dc",
   "metadata": {},
   "outputs": [],
   "source": [
    "import xdsl, riscemu\n",
    "from riscv.higher_plane_of_abstraction import module, printer\n",
    "\n",
    "printer.print(module)"
   ]
  },
  {
   "cell_type": "markdown",
   "id": "fbb48a40",
   "metadata": {},
   "source": [
    "Okay. This *really* doesn't look like RISC-V. But if I look at it for a while, I can see some familiar stuff:\n",
    "\n",
    "\n",
    "```\n",
    "    %0 = \"riscv_ssa.li\"() {\"immediate\" = 82 : i32}\n",
    "    ^^              ^^                   ^^\n",
    "    Result?         Op-name              Argument\n",
    "```\n",
    "\n",
    "We seem to have the `li` pseudo-op here, with an immediate value of `82`. It's result is stored in `%0`.\n",
    "\n",
    "But what register is `%0`?"
   ]
  },
  {
   "cell_type": "markdown",
   "id": "09de4a76",
   "metadata": {},
   "source": [
    "## A short (and incomplete) introduction to SSA\n",
    "\n",
    "SSA stands for \"Static Single Assignment\". Our compiler framework uses it.\n",
    "\n",
    " - Each variable is assigned exactly once!\n",
    " - We have infinitely many variables (or registers)\n",
    "\n",
    "So `%0` is just an SSA variable. The type of the variable is `#riscv_ssa.reg`, which is a convoluted way of saying that it represents a register. The compiler just hasn't made up its mind yet which specific register it means.\n",
    "\n",
    "This abstraction will enable us to do some powerful stuff later on.\n",
    "\n",
    "\n",
    "Anyways, we try not to interact with SSA much **yet**, so let's print it in a more accessible way:"
   ]
  },
  {
   "cell_type": "code",
   "execution_count": null,
   "id": "8cdec416",
   "metadata": {},
   "outputs": [],
   "source": [
    "from riscv.emulator_iop import print_riscv_ssa, run_riscv\n",
    "\n",
    "print(print_riscv_ssa(module))"
   ]
  },
  {
   "cell_type": "markdown",
   "id": "bfffd738",
   "metadata": {},
   "source": [
    "Okay, this isn't exactly valid RISC-V assembly, but it's relatively close. Why don't we just try to run it in a RISC-V emulator?\n",
    "\n",
    "Luckily, this Notebook also provides an emulator that is able to understand RISC-V code with an unlimited number of registers:"
   ]
  },
  {
   "cell_type": "code",
   "execution_count": null,
   "id": "7478a21f",
   "metadata": {},
   "outputs": [],
   "source": [
    "run_riscv(print_riscv_ssa(module), unlimited_regs=True)"
   ]
  },
  {
   "cell_type": "markdown",
   "id": "1435f850",
   "metadata": {},
   "source": [
    "## Let's Accelerate This:\n",
    "\n",
    "let's start simple. We want to add a fused multiply-add instruction to our RISC-V ISA.\n",
    "\n",
    "Let's define it's structure as `fmadd  rd, rs1, rs2, rs3`\n",
    "\n",
    "We first need to tell our compiler about the structure of our new instruction. For that we can use `xDSL` and it's interface for defining new Operations called `irdl`:"
   ]
  },
  {
   "cell_type": "code",
   "execution_count": null,
   "id": "7ab88af6",
   "metadata": {},
   "outputs": [],
   "source": [
    "from xdsl.irdl import irdl_op_definition, Operation, Operand, Annotated, OpResult\n",
    "from riscv.riscv_ssa import *\n",
    "\n",
    "@irdl_op_definition\n",
    "class FmaddOp(Operation):\n",
    "    name = \"riscv_ssa.fmadd\"\n",
    "    \n",
    "    rd: Annotated[OpResult, RegisterType]\n",
    "    \"\"\"\n",
    "    We return a single value in a register\n",
    "    \"\"\"\n",
    "    \n",
    "    rs1: Annotated[Operand, RegisterType]\n",
    "    rs2: Annotated[Operand, RegisterType]\n",
    "    rs3: Annotated[Operand, RegisterType]\n",
    "    \"\"\"\n",
    "    We take three arguments (Operands), which are also registers.\n",
    "    \"\"\"\n",
    "    \n",
    "    @classmethod\n",
    "    def get(cls, *rs):\n",
    "        \"\"\"\n",
    "        This is a little helper function, to help us construct an fmadd operation\n",
    "        \"\"\"\n",
    "        return cls.build(operands=rs, result_types=[RegisterType()])"
   ]
  },
  {
   "cell_type": "markdown",
   "id": "ad86b973",
   "metadata": {},
   "source": [
    "### How to get the Fmadd into the RISC-V?\n",
    "\n",
    "Now to the interesting part. We need to create a compiler optimization that replaces a `mul` and `add` with an `fmadd`.\n",
    "\n",
    "For that, we can use the xdsl `pattern_rewriter` module, which provides us with a neat interface for defining optimizations:"
   ]
  },
  {
   "cell_type": "code",
   "execution_count": null,
   "id": "35d5ef90",
   "metadata": {},
   "outputs": [],
   "source": [
    "# Import some things from the xdsl.pattern_rewriter module:\n",
    "from xdsl.pattern_rewriter import (GreedyRewritePatternApplier,\n",
    "                                   PatternRewriter, PatternRewriteWalker,\n",
    "                                   RewritePattern, op_type_rewrite_pattern)\n",
    "\n",
    "# Create our rewriter class:\n",
    "class FmaddOpOptimizer(RewritePattern):\n",
    "    \n",
    "    @op_type_rewrite_pattern\n",
    "    def match_and_rewrite(self, add: AddOp, rewriter: PatternRewriter):\n",
    "        \"\"\"\n",
    "        This method will be called on each AddOp in out RISC-V SSA definition.\n",
    "        \"\"\"\n",
    "        # we iterate over all operands (arguments) of the add instruction\n",
    "        for operand in add.operands:\n",
    "            # and try to find a value that was the result of a MULOp\n",
    "            # also check that it's only used once (by this AddOp) and no one else\n",
    "            if isinstance(operand.op, MULOp) and len(operand.uses) == 1:\n",
    "                # if we find one, we grab its arguments\n",
    "                a, b = operand.op.operands\n",
    "                # and the other argument to our add instruction\n",
    "                other_operand = add.rs1 if operand == add.rs2 else add.rs2\n",
    "\n",
    "                # we then replace the add instruction with a fmadd instruction\n",
    "                rewriter.replace_matched_op(\n",
    "                    FmaddOp.get(a, b, other_operand)\n",
    "                )\n",
    "\n",
    "                # and erase the mul instruction\n",
    "                rewriter.erase_op(operand.op)\n",
    "                break"
   ]
  },
  {
   "cell_type": "markdown",
   "id": "ba2d7ff6",
   "metadata": {},
   "source": [
    "This is a pretty naive rewrite, but it will work for now.\n",
    "\n",
    "Let's apply this rewrite:"
   ]
  },
  {
   "cell_type": "code",
   "execution_count": null,
   "id": "c0634dfc",
   "metadata": {},
   "outputs": [],
   "source": [
    "PatternRewriteWalker(GreedyRewritePatternApplier([FmaddOpOptimizer()])).rewrite_module(module)"
   ]
  },
  {
   "cell_type": "code",
   "execution_count": null,
   "id": "c9670dea",
   "metadata": {},
   "outputs": [],
   "source": [
    "# proposed solution to make the cell above nicer:\n",
    "def apply_rewrites(module, *rewriters):\n",
    "    PatternRewriteWalker(GreedyRewritePatternApplier(list(r() for r in rewriters))).rewrite_module(module)\n",
    "\n",
    "# cell above can be written as:\n",
    "#apply_rewrites(module, FmaddOpOptimizer)"
   ]
  },
  {
   "cell_type": "markdown",
   "id": "cbd218ff",
   "metadata": {},
   "source": [
    "Okay, let's look at what happened to our assembly:"
   ]
  },
  {
   "cell_type": "code",
   "execution_count": null,
   "id": "886738dd",
   "metadata": {},
   "outputs": [],
   "source": [
    "printer.print(module)"
   ]
  },
  {
   "cell_type": "markdown",
   "id": "83e8fe94",
   "metadata": {},
   "source": [
    "We can see, that an `fmadd` operation was inserted, and our `mul` and `add` is done.\n",
    "\n",
    "let's print it as RISC-V SSA Assembly:"
   ]
  },
  {
   "cell_type": "code",
   "execution_count": null,
   "id": "a82fb8c5",
   "metadata": {},
   "outputs": [],
   "source": [
    "print(print_riscv_ssa(module))"
   ]
  },
  {
   "cell_type": "markdown",
   "id": "742516d1",
   "metadata": {},
   "source": [
    "**Success!**"
   ]
  },
  {
   "cell_type": "markdown",
   "id": "1258abfd",
   "metadata": {},
   "source": [
    "## Emulation Time:\n",
    "\n",
    "We defined the syntax of the `fmadd` instruction, but we now need to define the semantics for the emulator:"
   ]
  },
  {
   "cell_type": "code",
   "execution_count": null,
   "id": "818def73",
   "metadata": {},
   "outputs": [],
   "source": [
    "from riscemu.instructions import InstructionSet, Instruction\n",
    "\n",
    "# Define a RISC-V ISA extension by subclassing InstructionSet\n",
    "class RV_fmadd(InstructionSet):\n",
    "    # each method beginning with instruction_ will be available to the Emulator\n",
    "    \n",
    "    def instruction_fmadd(self, ins: Instruction):\n",
    "        \"\"\"\n",
    "        This method defines the semantics of the fmadd instruction. Let's settle at:\n",
    "        \n",
    "        rd = (rs1 * rs2) + rs3\n",
    "        \"\"\"\n",
    "        # get all register names from the instruction:\n",
    "        rd, rs1, rs2, rs3 = (ins.get_reg(i) for i in (0,1,2,3))\n",
    "        \n",
    "        # we can access the cpu registers through self.regs\n",
    "        \n",
    "        # we can set a register value using self.regs.set(name: str, value: Int32)\n",
    "        self.regs.set(\n",
    "            rd,\n",
    "            (self.regs.get(rs1) * self.regs.get(rs2)) + self.regs.get(rs3)\n",
    "        )"
   ]
  },
  {
   "cell_type": "markdown",
   "id": "6c9501c5",
   "metadata": {},
   "source": [
    "We need to tell the emulator about our new instruction set extension. Luckily, our `run_riscv` function accepts an `extension` argument, that takes a list of extensions for the emulator!\n",
    "\n",
    "Let's give it a go!"
   ]
  },
  {
   "cell_type": "code",
   "execution_count": null,
   "id": "1bb689a3",
   "metadata": {},
   "outputs": [],
   "source": [
    "run_riscv(print_riscv_ssa(module), extensions=(RV_fmadd,), unlimited_regs=True)"
   ]
  },
  {
   "cell_type": "markdown",
   "id": "c88727f8",
   "metadata": {},
   "source": [
    "## Success!"
   ]
  },
  {
   "cell_type": "markdown",
   "id": "6fa7dbd4",
   "metadata": {},
   "source": [
    "[Back to table of contents](0_Table_of_Contents.ipynb)"
   ]
  }
 ],
 "metadata": {
  "kernelspec": {
   "display_name": "Python 3 (ipykernel)",
   "language": "python",
   "name": "python3"
  },
  "language_info": {
   "codemirror_mode": {
    "name": "ipython",
    "version": 3
   },
   "file_extension": ".py",
   "mimetype": "text/x-python",
   "name": "python",
   "nbconvert_exporter": "python",
   "pygments_lexer": "ipython3",
   "version": "3.10.9"
  },
  "vscode": {
   "interpreter": {
    "hash": "916dbcbb3f70747c44a77c7bcd40155683ae19c65e1c03b4aa3499c5328201f1"
   }
  }
 },
 "nbformat": 4,
 "nbformat_minor": 5
}

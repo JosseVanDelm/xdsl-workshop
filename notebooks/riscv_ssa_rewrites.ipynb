{
 "cells": [
  {
   "cell_type": "markdown",
   "id": "8387eafc",
   "metadata": {},
   "source": [
    "# Supporting a custom L0 RISC-V accelerator\n",
    "\n",
    "\n",
    "Let's assume we have been given the following from God:\n",
    "\n",
    " - A program compiled half-way down to RISC-V Assembly\n",
    " - The format of this program is what we call \"RISC-V SSA\"\n",
    "\n",
    "Let's not worry too much about what all this means, and instead just look at it:\n"
   ]
  },
  {
   "cell_type": "code",
   "execution_count": 1,
   "id": "f97b364a",
   "metadata": {},
   "outputs": [],
   "source": [
    "from riscv.riscv_ssa import *\n",
    "from xdsl.dialects.builtin import ModuleOp\n",
    "from riscv.emulator_iop import run_riscv, print_riscv_ssa\n",
    "\n",
    "p = Printer(target=Printer.Target.MLIR)"
   ]
  },
  {
   "cell_type": "markdown",
   "id": "13f0937e",
   "metadata": {},
   "source": [
    "## Our SSA RISC-V:"
   ]
  },
  {
   "cell_type": "code",
   "execution_count": 2,
   "id": "d5d2f4dc",
   "metadata": {},
   "outputs": [],
   "source": [
    "module = ModuleOp.from_region_or_ops([\n",
    "    LabelOp.get('main'),\n",
    "    a0  := LIOp.get(82),\n",
    "    a1  := LIOp.get(5),\n",
    "    mul := MULOp.get(a0, a1),\n",
    "    a2  := LIOp.get(10),\n",
    "    add := AddOp.get(mul, a2),\n",
    "    ECALLOp.get(93, add)\n",
    "])"
   ]
  },
  {
   "cell_type": "markdown",
   "id": "e2c172d2",
   "metadata": {},
   "source": [
    "**let's print it out:**"
   ]
  },
  {
   "cell_type": "code",
   "execution_count": 3,
   "id": "a6f1f68a",
   "metadata": {},
   "outputs": [
    {
     "name": "stdout",
     "output_type": "stream",
     "text": [
      "\"builtin.module\"() ({\n",
      "  \"riscv_ssa.label\"() {\"label\" = #riscv.label<main>} : () -> ()\n",
      "  %0 = \"riscv_ssa.li\"() {\"immediate\" = 82 : i32} : () -> #riscv_ssa.reg\n",
      "  %1 = \"riscv_ssa.li\"() {\"immediate\" = 5 : i32} : () -> #riscv_ssa.reg\n",
      "  %2 = \"riscv_ssa.mul\"(%0, %1) : (#riscv_ssa.reg, #riscv_ssa.reg) -> #riscv_ssa.reg\n",
      "  %3 = \"riscv_ssa.li\"() {\"immediate\" = 10 : i32} : () -> #riscv_ssa.reg\n",
      "  %4 = \"riscv_ssa.add\"(%2, %3) : (#riscv_ssa.reg, #riscv_ssa.reg) -> #riscv_ssa.reg\n",
      "  \"riscv_ssa.ecall\"(%4) {\"syscall_num\" = 93 : i32} : (#riscv_ssa.reg) -> ()\n",
      "}) : () -> ()\n"
     ]
    }
   ],
   "source": [
    "p.print(module)"
   ]
  },
  {
   "cell_type": "markdown",
   "id": "b17a5ce9",
   "metadata": {},
   "source": [
    "This *really* doesn't look like RISC-V. But if I look at it for a while, I can see some familiar stuff:\n",
    "\n",
    "\n",
    "```\n",
    "    %0 = \"riscv_ssa.li\"() {\"immediate\" = 82 : i32}\n",
    "    ^^              ^^                   ^^\n",
    "    Result?         Op-name              Argument\n",
    "```\n",
    "\n",
    "We seem to have the `li` pseudo-op here, with an immediate value of `82`. It's result is stored in `%0`."
   ]
  },
  {
   "cell_type": "markdown",
   "id": "5d7f0fe3",
   "metadata": {},
   "source": [
    "## A short (and incomplete) introduction to SSA\n",
    "\n",
    " - We have infinitely many variables (or registers)\n",
    " - We can only assign to each register once\n",
    " \n",
    "This Notebook provides a function to print the RISC-V SSA in a more RISC-V-like format:"
   ]
  },
  {
   "cell_type": "code",
   "execution_count": 4,
   "id": "68d07593",
   "metadata": {},
   "outputs": [
    {
     "name": "stdout",
     "output_type": "stream",
     "text": [
      ".text\n",
      "main:\n",
      "\tli\t%0, 82\n",
      "\tli\t%1, 5\n",
      "\tmul\t%2, %0, %1\n",
      "\tli\t%3, 10\n",
      "\tadd\t%4, %2, %3\n",
      "\tmv\ta0, %4\n",
      "\tli\ta7, 93\n",
      "\tscall\n",
      "\n"
     ]
    }
   ],
   "source": [
    "print(print_riscv_ssa(module))"
   ]
  },
  {
   "cell_type": "markdown",
   "id": "91500c97",
   "metadata": {},
   "source": [
    "Okay, this isn't exactly valid RISC-V, but it's relatively close. We can try to run it in an RISC-V Emulator.\n",
    "\n",
    "Luckily, this Notebook comes with a built-in emulator:"
   ]
  },
  {
   "cell_type": "code",
   "execution_count": 5,
   "id": "cdab82b7",
   "metadata": {},
   "outputs": [
    {
     "name": "stdout",
     "output_type": "stream",
     "text": [
      "\u001b[34m\u001b[1m[CPU] Started running from example.asm:.text at main (0x100) + 0x0\u001b[0m\n",
      "Program(name=example.asm,sections=set(),base=['.text'])\n",
      "\u001b[34m\u001b[1m   Running 0x00000100:\u001b[0m li %0, 82\n",
      "Invalid register: %0\n"
     ]
    }
   ],
   "source": [
    "run_riscv(print_riscv_ssa(module))"
   ]
  },
  {
   "cell_type": "markdown",
   "id": "4cb2ebd2",
   "metadata": {},
   "source": [
    "**Aaaargh, this is bad! We need to do register allocation!**\n",
    "\n",
    "\n",
    "If *only* there was a way to make the emulator accept our \"unlimited register\" RISC-V...\n"
   ]
  },
  {
   "cell_type": "code",
   "execution_count": 6,
   "id": "75024b55",
   "metadata": {},
   "outputs": [
    {
     "name": "stdout",
     "output_type": "stream",
     "text": [
      "\u001b[34m\u001b[1m[CPU] Started running from example.asm:.text at main (0x100) + 0x0\u001b[0m\n",
      "Program(name=example.asm,sections=set(),base=['.text'])\n",
      "\u001b[34m\u001b[1m   Running 0x00000100:\u001b[0m li %0, 82\n",
      "\u001b[34m\u001b[1m   Running 0x00000104:\u001b[0m li %1, 5\n",
      "\u001b[34m\u001b[1m   Running 0x00000108:\u001b[0m mul %2, %0, %1\n",
      "\u001b[34m\u001b[1m   Running 0x0000010C:\u001b[0m li %3, 10\n",
      "\u001b[34m\u001b[1m   Running 0x00000110:\u001b[0m add %4, %2, %3\n",
      "\u001b[34m\u001b[1m   Running 0x00000114:\u001b[0m mv a0, %4\n",
      "\u001b[34m\u001b[1m   Running 0x00000118:\u001b[0m li a7, 93\n",
      "\u001b[34m\u001b[1m   Running 0x0000011C:\u001b[0m scall \n",
      "\u001b[34m\u001b[1m[CPU] Program exited with code 420\u001b[0m\n"
     ]
    }
   ],
   "source": [
    "run_riscv(print_riscv_ssa(module), unlimited_regs=True)"
   ]
  },
  {
   "cell_type": "markdown",
   "id": "71e5f945",
   "metadata": {},
   "source": [
    "## Let's Accelerate This:\n",
    "\n",
    "let's start simple. We want to add a fused multiply-add instruction to our RISC-V ISA.\n",
    "\n",
    "Let's define it's structure as `fmadd  rd, rs1, rs2, rs3`\n",
    "\n",
    "We first need to tell our compiler about the structure of our new instruction. For that we can use `xDSL` and it's interface for defining new Operations called `irdl`:"
   ]
  },
  {
   "cell_type": "code",
   "execution_count": 7,
   "id": "7ab88af6",
   "metadata": {},
   "outputs": [],
   "source": [
    "@irdl_op_definition\n",
    "class FmaddOp(Operation):\n",
    "    name = \"riscv_ssa.fmadd\"\n",
    "    \n",
    "    rd: Annotated[OpResult, RegisterType]\n",
    "    \"\"\"\n",
    "    We return a single value in a register\n",
    "    \"\"\"\n",
    "    \n",
    "    rs1: Annotated[Operand, RegisterType]\n",
    "    rs2: Annotated[Operand, RegisterType]\n",
    "    rs3: Annotated[Operand, RegisterType]\n",
    "    \"\"\"\n",
    "    We take three arguments (Operands), which are also registers.\n",
    "    \"\"\"\n",
    "    \n",
    "    @classmethod\n",
    "    def get(cls, *rs):\n",
    "        \"\"\"\n",
    "        This is a little helper function, to help us construct an fmadd operation\n",
    "        \"\"\"\n",
    "        return cls.build(operands=rs, result_types=[RegisterType()])"
   ]
  },
  {
   "cell_type": "markdown",
   "id": "1db90f39",
   "metadata": {},
   "source": [
    "### How to get the Fmadd into the RISC-V?\n",
    "\n",
    "Now to the interesting part. We need to create a compiler optimization that replaces a `mul` and `add` with an `fmadd`.\n",
    "\n",
    "For that, we can use the xdsl `pattern_rewriter` module, which provides us with a neat interface for defining optimizations:"
   ]
  },
  {
   "cell_type": "code",
   "execution_count": 8,
   "id": "35d5ef90",
   "metadata": {},
   "outputs": [],
   "source": [
    "# Import some things from the xdsl.pattern_rewriter module:\n",
    "from xdsl.pattern_rewriter import (GreedyRewritePatternApplier,\n",
    "                                   PatternRewriter, PatternRewriteWalker,\n",
    "                                   RewritePattern, op_type_rewrite_pattern)\n",
    "\n",
    "# Create our rewriter class:\n",
    "class FmaddOpOptimizer(RewritePattern):\n",
    "    \n",
    "    @op_type_rewrite_pattern\n",
    "    def match_and_rewrite(self, add: AddOp, rewriter: PatternRewriter):\n",
    "        \"\"\"\n",
    "        This method will be called on each AddOp in out RISC-V SSA definition.\n",
    "        \"\"\"\n",
    "        # we iterate over all operands (arguments) of the add instruction\n",
    "        for operand in add.operands:\n",
    "            # and try to find a value that was the result of a MULOp\n",
    "            if isinstance(operand.op, MULOp):\n",
    "                # if we find one, we grab its arguments\n",
    "                a, b = operand.op.operands\n",
    "                # and the other argument to our add instruction\n",
    "                other_operand = add.rs1 if operand == add.rs2 else add.rs2\n",
    "\n",
    "                # we then replace the add instruction with a fmadd instruction\n",
    "                rewriter.replace_matched_op(\n",
    "                    FmaddOp.get(a, b, other_operand)\n",
    "                )\n",
    "\n",
    "                # and erase the mul instruction\n",
    "                rewriter.erase_op(operand.op)\n",
    "                break"
   ]
  },
  {
   "cell_type": "markdown",
   "id": "d331c551",
   "metadata": {},
   "source": [
    "This is a pretty naive rewrite, but it will work for now.\n",
    "\n",
    "We might want to check if the return value from the mul is used somewhere else before erasing the `mul`, but that is for future-us to worry about.\n",
    "\n",
    "Let's apply this rewrite:"
   ]
  },
  {
   "cell_type": "code",
   "execution_count": 9,
   "id": "c0634dfc",
   "metadata": {},
   "outputs": [],
   "source": [
    "PatternRewriteWalker(GreedyRewritePatternApplier([FmaddOpOptimizer()])).rewrite_module(module)"
   ]
  },
  {
   "cell_type": "code",
   "execution_count": 10,
   "id": "53d9dbbf",
   "metadata": {},
   "outputs": [],
   "source": [
    "# proposed solution to make the cell above nicer:\n",
    "def apply_rewrites(module, *rewriters):\n",
    "    PatternRewriteWalker(GreedyRewritePatternApplier(list(rewriters))).rewrite_module(module)\n",
    "\n",
    "# cell above can be written as:\n",
    "#apply_rewrites(module, FmaddOpOptimizer())"
   ]
  },
  {
   "cell_type": "markdown",
   "id": "036c1d13",
   "metadata": {},
   "source": [
    "Okay, let's look at what happened to our assembly:"
   ]
  },
  {
   "cell_type": "code",
   "execution_count": 11,
   "id": "886738dd",
   "metadata": {},
   "outputs": [
    {
     "name": "stdout",
     "output_type": "stream",
     "text": [
      "\"builtin.module\"() ({\n",
      "  \"riscv_ssa.label\"() {\"label\" = #riscv.label<main>} : () -> ()\n",
      "  %0 = \"riscv_ssa.li\"() {\"immediate\" = 82 : i32} : () -> #riscv_ssa.reg\n",
      "  %1 = \"riscv_ssa.li\"() {\"immediate\" = 5 : i32} : () -> #riscv_ssa.reg\n",
      "  %3 = \"riscv_ssa.li\"() {\"immediate\" = 10 : i32} : () -> #riscv_ssa.reg\n",
      "  %5 = \"riscv_ssa.fmadd\"(%0, %1, %3) : (#riscv_ssa.reg, #riscv_ssa.reg, #riscv_ssa.reg) -> #riscv_ssa.reg\n",
      "  \"riscv_ssa.ecall\"(%5) {\"syscall_num\" = 93 : i32} : (#riscv_ssa.reg) -> ()\n",
      "}) : () -> ()\n"
     ]
    }
   ],
   "source": [
    "p.print(module)"
   ]
  },
  {
   "cell_type": "markdown",
   "id": "df710a9a",
   "metadata": {},
   "source": [
    "We can see, that an `fmadd` operation was inserted, and our `mul` and `add` is done.\n",
    "\n",
    "let's print it as RISC-V SSA Assembly:"
   ]
  },
  {
   "cell_type": "code",
   "execution_count": 12,
   "id": "c71a4d44",
   "metadata": {},
   "outputs": [
    {
     "name": "stdout",
     "output_type": "stream",
     "text": [
      ".text\n",
      "main:\n",
      "\tli\t%0, 82\n",
      "\tli\t%1, 5\n",
      "\tli\t%2, 10\n",
      "\tfmadd\t%3, %0, %1, %2\n",
      "\tmv\ta0, %3\n",
      "\tli\ta7, 93\n",
      "\tscall\n",
      "\n"
     ]
    }
   ],
   "source": [
    "print(print_riscv_ssa(module))"
   ]
  },
  {
   "cell_type": "markdown",
   "id": "d0ceecdd",
   "metadata": {},
   "source": [
    "**Success!**"
   ]
  },
  {
   "cell_type": "markdown",
   "id": "093cd674",
   "metadata": {},
   "source": [
    "## Emulation Time:\n",
    "\n",
    "We defined the syntax of the `fmadd` instruction, but we now need to define the semantics for the emulator:"
   ]
  },
  {
   "cell_type": "code",
   "execution_count": 13,
   "id": "818def73",
   "metadata": {},
   "outputs": [],
   "source": [
    "from riscemu.instructions import InstructionSet, Instruction\n",
    "\n",
    "# Define a RISC-V ISA extension by subclassing InstructionSet\n",
    "class RV_fmadd(InstructionSet):\n",
    "    # each method beginning with instruction_ will be available to the Emulator\n",
    "    \n",
    "    def instruction_fmadd(self, ins: Instruction):\n",
    "        \"\"\"\n",
    "        We now have to define the fmadd semantics. Let's define it as\n",
    "        \n",
    "        rd = (rs1 * rs2) + rs3\n",
    "        \"\"\"\n",
    "        # get all register names from the instruction:\n",
    "        rd, rs1, rs2, rs3 = (ins.get_reg(i) for i in (0,1,2,3))\n",
    "        \n",
    "        # we can access the cpu registers through self.regs\n",
    "        \n",
    "        # we can set a register value using self.regs.set(name: str, value: Int32)\n",
    "        self.regs.set(\n",
    "            rd,\n",
    "            # \n",
    "            (self.regs.get(rs1) * self.regs.get(rs2)) + self.regs.get(rs3)\n",
    "        )"
   ]
  },
  {
   "cell_type": "markdown",
   "id": "ca2a60e0",
   "metadata": {},
   "source": [
    "We need to tell the emulator about our new instruction set extension. Luckily, our `run_riscv` function accepts an `extension` argument, that takes a list of extensions for the emulator!\n",
    "\n",
    "Let's give it a go!"
   ]
  },
  {
   "cell_type": "code",
   "execution_count": 14,
   "id": "1bb689a3",
   "metadata": {},
   "outputs": [
    {
     "name": "stdout",
     "output_type": "stream",
     "text": [
      "\u001b[34m\u001b[1m[CPU] Started running from example.asm:.text at main (0x100) + 0x0\u001b[0m\n",
      "Program(name=example.asm,sections=set(),base=['.text'])\n",
      "\u001b[34m\u001b[1m   Running 0x00000100:\u001b[0m li %0, 82\n",
      "\u001b[34m\u001b[1m   Running 0x00000104:\u001b[0m li %1, 5\n",
      "\u001b[34m\u001b[1m   Running 0x00000108:\u001b[0m li %2, 10\n",
      "\u001b[34m\u001b[1m   Running 0x0000010C:\u001b[0m fmadd %3, %0, %1, %2\n",
      "\u001b[34m\u001b[1m   Running 0x00000110:\u001b[0m mv a0, %3\n",
      "\u001b[34m\u001b[1m   Running 0x00000114:\u001b[0m li a7, 93\n",
      "\u001b[34m\u001b[1m   Running 0x00000118:\u001b[0m scall \n",
      "\u001b[34m\u001b[1m[CPU] Program exited with code 420\u001b[0m\n"
     ]
    }
   ],
   "source": [
    "run_riscv(print_riscv_ssa(module), extensions=(RV_fmadd,), unlimited_regs=True)"
   ]
  },
  {
   "cell_type": "markdown",
   "id": "a3782458",
   "metadata": {},
   "source": [
    "## Success!"
   ]
  }
 ],
 "metadata": {
  "kernelspec": {
   "display_name": "Python 3 (ipykernel)",
   "language": "python",
   "name": "python3"
  },
  "language_info": {
   "codemirror_mode": {
    "name": "ipython",
    "version": 3
   },
   "file_extension": ".py",
   "mimetype": "text/x-python",
   "name": "python",
   "nbconvert_exporter": "python",
   "pygments_lexer": "ipython3",
   "version": "3.10.8"
  }
 },
 "nbformat": 4,
 "nbformat_minor": 5
}

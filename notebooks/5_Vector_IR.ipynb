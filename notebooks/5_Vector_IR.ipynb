{
 "cells": [
  {
   "attachments": {},
   "cell_type": "markdown",
   "id": "56341c66",
   "metadata": {},
   "source": [
    "# Chapter 5: Vector IR\n",
    "\n",
    "Instead of going straight from Toy IR to RISC-V, we'll go through an intermediate dialect,\n",
    "with some simpler types. In this IR, tensors represented as two 1D vectors, containing\n",
    "the shape and data information. We can still do pointwise addition on the contents of the\n",
    "vectors."
   ]
  },
  {
   "cell_type": "code",
   "execution_count": 1,
   "id": "e07ae44f",
   "metadata": {},
   "outputs": [
    {
     "name": "stdout",
     "output_type": "stream",
     "text": [
      "\"builtin.module\"() ({\n",
      "  \"toy.func\"() ({\n",
      "    %0 = \"toy.vector.constant\"() {\"data\" = [#int<2>, #int<3>], \"label\" = \"tensor_shape\"} : () -> #riscv_ssa.reg\n",
      "    %1 = \"toy.vector.constant\"() {\"data\" = [#int<1>, #int<2>, #int<3>, #int<4>, #int<5>, #int<6>], \"label\" = \"tensor_data\"} : () -> #riscv_ssa.reg\n",
      "    %2 = \"toy.tensor.make\"(%0, %1) : (#riscv_ssa.reg, #riscv_ssa.reg) -> #riscv_ssa.reg\n",
      "    %3 = \"toy.vector.constant\"() {\"data\" = [#int<2>, #int<3>], \"label\" = \"tensor_shape\"} : () -> #riscv_ssa.reg\n",
      "    %4 = \"toy.vector.constant\"() {\"data\" = [#int<1>, #int<2>, #int<3>, #int<4>, #int<5>, #int<6>], \"label\" = \"tensor_data\"} : () -> #riscv_ssa.reg\n",
      "    %5 = \"toy.tensor.make\"(%3, %4) : (#riscv_ssa.reg, #riscv_ssa.reg) -> #riscv_ssa.reg\n",
      "    %6 = \"toy.tensor.shape\"(%2) : (#riscv_ssa.reg) -> #riscv_ssa.reg\n",
      "    %7 = \"toy.tensor.data\"(%2) : (#riscv_ssa.reg) -> #riscv_ssa.reg\n",
      "    %8 = \"toy.tensor.data\"(%5) : (#riscv_ssa.reg) -> #riscv_ssa.reg\n",
      "    %9 = \"toy.vector.add\"(%7, %8) : (#riscv_ssa.reg, #riscv_ssa.reg) -> #riscv_ssa.reg\n",
      "    %10 = \"toy.tensor.make\"(%6, %9) : (#riscv_ssa.reg, #riscv_ssa.reg) -> #riscv_ssa.reg\n",
      "    \"toy.print\"(%10) : (#riscv_ssa.reg) -> ()\n",
      "    \"toy.return\"() : () -> ()\n",
      "  }) {\"sym_name\" = \"main\", \"function_type\" = () -> ()} : () -> ()\n",
      "}) : () -> ()\n"
     ]
    }
   ],
   "source": [
    "from compiler import (parse_toy, print_op, optimise_toy, lower_from_toy, \n",
    "                                  optimise_vir, lower_to_riscv, emulate_riscv)\n",
    "\n",
    "example = \"\"\"\n",
    "def main() {\n",
    "  var a<2, 3> = [[1, 2, 3], [4, 5, 6]];\n",
    "  var b<6> = [1, 2, 3, 4, 5, 6];\n",
    "  var c<2, 3> = b;\n",
    "  var d = a + c;\n",
    "  print(d);\n",
    "}\n",
    "\"\"\"\n",
    "\n",
    "toy_0 = parse_toy(example)\n",
    "toy_1 = optimise_toy(toy_0)\n",
    "vir_0 = lower_from_toy(toy_1)\n",
    "\n",
    "print_op(vir_0)"
   ]
  },
  {
   "attachments": {},
   "cell_type": "markdown",
   "id": "a47f1c5c",
   "metadata": {},
   "source": [
    "### Lowering Toy to Vector IR\n",
    "\n",
    "\n",
    "TODO: lower toy.add to toy.tensor.add"
   ]
  },
  {
   "attachments": {},
   "cell_type": "markdown",
   "id": "3820c92b",
   "metadata": {},
   "source": [
    "### Optimising VIR\n",
    "\n",
    "As we can see, the code expanded quite a bit. The vector constants are initialised\n",
    "individually, and then combined using the `toy.tensor.make` operation. One optimisation we\n",
    "can implement is to use the original data vector instead of using the one from the tensor:\n",
    "\n",
    "``` python\n",
    "# Before\n",
    "shape = ...\n",
    "data_0 = ...\n",
    "tensor = Tensor(shape, data_0)\n",
    "data_1 = tensor.data\n",
    "\n",
    "# After\n",
    "shape = ...\n",
    "data_0 = ...\n",
    "tensor = Tensor(shape, data_0)\n",
    "data_1 = data_0\n",
    "```\n",
    "\n",
    "If the tensor is unused, we can delete it altogether. Let's see what that gives us."
   ]
  },
  {
   "cell_type": "code",
   "execution_count": 2,
   "id": "890a2fdc",
   "metadata": {},
   "outputs": [
    {
     "name": "stdout",
     "output_type": "stream",
     "text": [
      "\"builtin.module\"() ({\n",
      "  \"toy.func\"() ({\n",
      "    %0 = \"toy.vector.constant\"() {\"data\" = [#int<2>, #int<3>], \"label\" = \"tensor_shape\"} : () -> #riscv_ssa.reg\n",
      "    %1 = \"toy.vector.constant\"() {\"data\" = [#int<1>, #int<2>, #int<3>, #int<4>, #int<5>, #int<6>], \"label\" = \"tensor_data\"} : () -> #riscv_ssa.reg\n",
      "    %2 = \"toy.tensor.make\"(%0, %1) : (#riscv_ssa.reg, #riscv_ssa.reg) -> #riscv_ssa.reg\n",
      "    %3 = \"toy.vector.constant\"() {\"data\" = [#int<2>, #int<3>], \"label\" = \"tensor_shape\"} : () -> #riscv_ssa.reg\n",
      "    %4 = \"toy.vector.constant\"() {\"data\" = [#int<1>, #int<2>, #int<3>, #int<4>, #int<5>, #int<6>], \"label\" = \"tensor_data\"} : () -> #riscv_ssa.reg\n",
      "    %5 = \"toy.tensor.shape\"(%2) : (#riscv_ssa.reg) -> #riscv_ssa.reg\n",
      "    %6 = \"toy.vector.add\"(%1, %4) : (#riscv_ssa.reg, #riscv_ssa.reg) -> #riscv_ssa.reg\n",
      "    %7 = \"toy.tensor.make\"(%5, %6) : (#riscv_ssa.reg, #riscv_ssa.reg) -> #riscv_ssa.reg\n",
      "    \"toy.print\"(%7) : (#riscv_ssa.reg) -> ()\n",
      "    \"toy.return\"() : () -> ()\n",
      "  }) {\"sym_name\" = \"main\", \"function_type\" = () -> ()} : () -> ()\n",
      "}) : () -> ()\n"
     ]
    }
   ],
   "source": [
    "from typing import cast\n",
    "\n",
    "from xdsl.ir import OpResult, Operation\n",
    "from xdsl.dialects.builtin import DenseIntOrFPElementsAttr\n",
    "from xdsl.pattern_rewriter import (op_type_rewrite_pattern, RewritePattern,\n",
    "                                   PatternRewriter, PatternRewriteWalker)\n",
    "\n",
    "from toy.rewrites import RemoveUnusedOperations\n",
    "\n",
    "import vector_ir.dialect as tvd\n",
    "\n",
    "class SimplifyRedundantDataAccess(RewritePattern):\n",
    "\n",
    "    @op_type_rewrite_pattern\n",
    "    def match_and_rewrite(self, op: tvd.TensorDataOp,\n",
    "                          rewriter: PatternRewriter):\n",
    "        \"\"\"\n",
    "        Fold tensor(t_shape, t_data).data -> t_data\n",
    "        \"\"\"\n",
    "        # Look at the input of the current transpose.\n",
    "        tensor_data_input = op.rs1\n",
    "        if not isinstance(tensor_data_input, OpResult):\n",
    "            # Input was not produced by an operation, could be a function argument\n",
    "            return\n",
    "\n",
    "        tensor_make_op = tensor_data_input.op\n",
    "        if not isinstance(tensor_make_op, tvd.TensorMakeOp):\n",
    "            # Input defined by a constant passed in? If not, no match.\n",
    "            return\n",
    "\n",
    "        rewriter.replace_op(op, [], [tensor_make_op.rs2])\n",
    "\n",
    "PatternRewriteWalker(SimplifyRedundantDataAccess()).rewrite_module(vir_0)\n",
    "PatternRewriteWalker(RemoveUnusedOperations()).rewrite_module(vir_0)\n",
    "print_op(vir_0)\n"
   ]
  },
  {
   "cell_type": "code",
   "execution_count": 3,
   "id": "988a42dc",
   "metadata": {},
   "outputs": [
    {
     "name": "stdout",
     "output_type": "stream",
     "text": [
      "\"builtin.module\"() ({\n",
      "  \"toy.func\"() ({\n",
      "    %0 = \"toy.vector.constant\"() {\"data\" = [#int<2>, #int<3>], \"label\" = \"tensor_shape\"} : () -> #riscv_ssa.reg\n",
      "    %1 = \"toy.vector.constant\"() {\"data\" = [#int<1>, #int<2>, #int<3>, #int<4>, #int<5>, #int<6>], \"label\" = \"tensor_data\"} : () -> #riscv_ssa.reg\n",
      "    %2 = \"toy.vector.constant\"() {\"data\" = [#int<1>, #int<2>, #int<3>, #int<4>, #int<5>, #int<6>], \"label\" = \"tensor_data\"} : () -> #riscv_ssa.reg\n",
      "    %3 = \"toy.vector.add\"(%1, %2) : (#riscv_ssa.reg, #riscv_ssa.reg) -> #riscv_ssa.reg\n",
      "    %4 = \"toy.tensor.make\"(%0, %3) : (#riscv_ssa.reg, #riscv_ssa.reg) -> #riscv_ssa.reg\n",
      "    \"toy.print\"(%4) : (#riscv_ssa.reg) -> ()\n",
      "    \"toy.return\"() : () -> ()\n",
      "  }) {\"sym_name\" = \"main\", \"function_type\" = () -> ()} : () -> ()\n",
      "}) : () -> ()\n"
     ]
    }
   ],
   "source": [
    "from vector_ir.rewrites import SimplifyRedundantShapeAccess\n",
    "\n",
    "PatternRewriteWalker(SimplifyRedundantShapeAccess()).rewrite_module(vir_0)\n",
    "PatternRewriteWalker(RemoveUnusedOperations()).rewrite_module(vir_0)\n",
    "\n",
    "print_op(vir_0)"
   ]
  }
 ],
 "metadata": {
  "kernelspec": {
   "display_name": "Python 3",
   "language": "python",
   "name": "python3"
  },
  "language_info": {
   "codemirror_mode": {
    "name": "ipython",
    "version": 3
   },
   "file_extension": ".py",
   "mimetype": "text/x-python",
   "name": "python",
   "nbconvert_exporter": "python",
   "pygments_lexer": "ipython3",
   "version": "3.11.0"
  },
  "vscode": {
   "interpreter": {
    "hash": "8c189b674810d96af66833b07bd9a3fc1b15f37c11bf66e9bb86bed0f17aed6a"
   }
  }
 },
 "nbformat": 4,
 "nbformat_minor": 5
}

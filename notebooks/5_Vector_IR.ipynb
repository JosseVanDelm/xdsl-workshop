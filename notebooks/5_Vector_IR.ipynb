{
 "cells": [
  {
   "attachments": {},
   "cell_type": "markdown",
   "id": "582d4ae5",
   "metadata": {},
   "source": [
    "<br><br/>\n",
    "[Back to table of contents](0_Table_of_Contents.ipynb)"
   ]
  },
  {
   "cell_type": "markdown",
   "id": "56341c66",
   "metadata": {},
   "source": [
    "# Chapter 5: Vector IR\n",
    "\n",
    "Instead of going straight from Toy IR to RISC-V, we'll go through an intermediate dialect,\n",
    "with some simpler types. In this IR, tensors represented as two 1D vectors, containing\n",
    "the shape and data information. We can still do pointwise addition on the contents of the\n",
    "vectors."
   ]
  },
  {
   "cell_type": "code",
   "execution_count": null,
   "id": "e07ae44f",
   "metadata": {},
   "outputs": [],
   "source": [
    "import xdsl, riscemu\n",
    "\n",
    "from compiler import (parse_toy, print_op, optimise_toy, lower_from_toy, \n",
    "                                  optimise_vir, lower_to_riscv, emulate_riscv)\n",
    "\n",
    "example = \"\"\"\n",
    "def main() {\n",
    "  var a<2, 3> = [[1, 2, 3], [4, 5, 6]];\n",
    "  var b<6> = [1, 2, 3, 4, 5, 6];\n",
    "  var c<2, 3> = b;\n",
    "  var d = a + c;\n",
    "  print(d);\n",
    "}\n",
    "\"\"\"\n",
    "\n",
    "toy_0 = parse_toy(example)\n",
    "toy_1 = optimise_toy(toy_0)\n",
    "vir_0 = lower_from_toy(toy_1)\n",
    "\n",
    "print_op(vir_0)"
   ]
  },
  {
   "cell_type": "markdown",
   "id": "a47f1c5c",
   "metadata": {},
   "source": [
    "### Lowering Toy to Vector IR\n",
    "\n",
    "\n",
    "TODO: lower toy.add to toy.tensor.add"
   ]
  },
  {
   "cell_type": "markdown",
   "id": "3820c92b",
   "metadata": {},
   "source": [
    "### Optimising VIR\n",
    "\n",
    "As we can see, the code expanded quite a bit. The vector constants are initialised\n",
    "individually, and then combined using the `toy.tensor.make` operation. One optimisation we\n",
    "can implement is to use the original data vector instead of using the one from the tensor:\n",
    "\n",
    "``` python\n",
    "# Before\n",
    "shape = ...\n",
    "data_0 = ...\n",
    "tensor = Tensor(shape, data_0)\n",
    "data_1 = tensor.data\n",
    "\n",
    "# After\n",
    "shape = ...\n",
    "data_0 = ...\n",
    "tensor = Tensor(shape, data_0)\n",
    "data_1 = data_0\n",
    "```\n",
    "\n",
    "If the tensor is unused, we can delete it altogether. Let's see what that gives us."
   ]
  },
  {
   "cell_type": "code",
   "execution_count": null,
   "id": "890a2fdc",
   "metadata": {},
   "outputs": [],
   "source": [
    "from typing import cast\n",
    "\n",
    "from xdsl.ir import OpResult, Operation\n",
    "from xdsl.dialects.builtin import DenseIntOrFPElementsAttr\n",
    "from xdsl.pattern_rewriter import (op_type_rewrite_pattern, RewritePattern,\n",
    "                                   PatternRewriter, PatternRewriteWalker)\n",
    "\n",
    "from toy.rewrites import RemoveUnusedOperations\n",
    "\n",
    "import toy.dialect as td\n",
    "import vector_ir.dialect as tvd\n",
    "\n",
    "class SimplifyRedundantDataAccess(RewritePattern):\n",
    "\n",
    "    @op_type_rewrite_pattern\n",
    "    def match_and_rewrite(self, op: td.TensorDataOp,\n",
    "                          rewriter: PatternRewriter):\n",
    "        \"\"\"\n",
    "        Fold tensor(t_shape, t_data).data -> t_data\n",
    "        \"\"\"\n",
    "        # Look at the input of the current transpose.\n",
    "        tensor_data_input = op.tensor\n",
    "        if not isinstance(tensor_data_input, OpResult):\n",
    "            # Input was not produced by an operation, could be a function argument\n",
    "            return\n",
    "\n",
    "        tensor_make_op = tensor_data_input.op\n",
    "        if not isinstance(tensor_make_op, td.TensorMakeOp):\n",
    "            # Input defined by a constant passed in? If not, no match.\n",
    "            return\n",
    "\n",
    "        rewriter.replace_op(op, [], [tensor_make_op.tensor])\n",
    "\n",
    "PatternRewriteWalker(SimplifyRedundantDataAccess()).rewrite_module(vir_0)\n",
    "PatternRewriteWalker(RemoveUnusedOperations()).rewrite_module(vir_0)\n",
    "print_op(vir_0)\n"
   ]
  },
  {
   "cell_type": "code",
   "execution_count": null,
   "id": "988a42dc",
   "metadata": {},
   "outputs": [],
   "source": [
    "from vector_ir.rewrites import SimplifyRedundantShapeAccess\n",
    "\n",
    "PatternRewriteWalker(SimplifyRedundantShapeAccess()).rewrite_module(vir_0)\n",
    "PatternRewriteWalker(RemoveUnusedOperations()).rewrite_module(vir_0)\n",
    "\n",
    "print_op(vir_0)"
   ]
  },
  {
   "cell_type": "code",
   "execution_count": null,
   "id": "5f737c36",
   "metadata": {},
   "outputs": [],
   "source": [
    "from compiler import optimise_vir\n",
    "\n",
    "print_op(optimise_vir(vir_0))"
   ]
  },
  {
   "attachments": {},
   "cell_type": "markdown",
   "id": "a410f05c",
   "metadata": {},
   "source": [
    "<br><br/>\n",
    "[Back to table of contents](0_Table_of_Contents.ipynb)"
   ]
  }
 ],
 "metadata": {
  "kernelspec": {
   "display_name": "venv",
   "language": "python",
   "name": "python3"
  },
  "language_info": {
   "codemirror_mode": {
    "name": "ipython",
    "version": 3
   },
   "file_extension": ".py",
   "mimetype": "text/x-python",
   "name": "python",
   "nbconvert_exporter": "python",
   "pygments_lexer": "ipython3",
   "version": "3.10.7"
  },
  "vscode": {
   "interpreter": {
    "hash": "0d6790b426e2d71827724f01810f2f8f578a9246b0feca7b7fe6fc65e1a78cd0"
   }
  }
 },
 "nbformat": 4,
 "nbformat_minor": 5
}

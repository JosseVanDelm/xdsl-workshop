{
 "cells": [
  {
   "cell_type": "code",
   "execution_count": 37,
   "metadata": {},
   "outputs": [
    {
     "name": "stdout",
     "output_type": "stream",
     "text": [
      "\"builtin.module\"() ({\n",
      "  \"toy.func\"() ({\n",
      "    %0 = \"toy.constant\"() {\"value\" = dense<[[1, 2, 3], [4, 5, 6]]> : tensor<2x3xi32>} : () -> tensor<2x3xi32>\n",
      "    %1 = \"toy.reshape\"(%0) : (tensor<2x3xi32>) -> tensor<2x3xi32>\n",
      "    %2 = \"toy.constant\"() {\"value\" = dense<[1, 2, 3, 4, 5, 6]> : tensor<6xi32>} : () -> tensor<6xi32>\n",
      "    %3 = \"toy.reshape\"(%2) : (tensor<6xi32>) -> tensor<6xi32>\n",
      "    %4 = \"toy.reshape\"(%3) : (tensor<6xi32>) -> tensor<2x3xi32>\n",
      "    %5 = \"toy.add\"(%1, %4) : (tensor<2x3xi32>, tensor<2x3xi32>) -> tensor<2x3xi32>\n",
      "    \"toy.print\"(%5) : (tensor<2x3xi32>) -> ()\n",
      "    \"toy.return\"() : () -> ()\n",
      "  }) {\"sym_name\" = \"main\", \"function_type\" = () -> ()} : () -> ()\n",
      "}) : () -> ()\n",
      "\n"
     ]
    }
   ],
   "source": [
    "from compiler import (parse_toy, print_op, optimise_toy, lower_from_toy, \n",
    "                                  optimise_vir, lower_to_riscv, emulate_riscv)\n",
    "\n",
    "from riscv.emulator_iop import run_riscv, print_riscv_ssa\n",
    "\n",
    "### Notebook 2\n",
    "\n",
    "example = \"\"\"\n",
    "def main() {\n",
    "  var a<2, 3> = [[1, 2, 3], [4, 5, 6]];\n",
    "  var b<6> = [1, 2, 3, 4, 5, 6];\n",
    "  var c<2, 3> = b;\n",
    "  var d = a + c;\n",
    "  print(d);\n",
    "}\n",
    "\"\"\"\n",
    "\n",
    "toy_0 = parse_toy(example)\n",
    "print_op(toy_0)\n",
    "print()\n",
    "\n",
    "# mention the unnecessary"
   ]
  },
  {
   "cell_type": "code",
   "execution_count": null,
   "metadata": {},
   "outputs": [],
   "source": []
  },
  {
   "cell_type": "code",
   "execution_count": null,
   "metadata": {},
   "outputs": [],
   "source": [
    "print_op(toy_0)\n",
    "print()\n",
    "\n",
    "# mention the unnecessary reshapes"
   ]
  },
  {
   "cell_type": "code",
   "execution_count": 38,
   "metadata": {},
   "outputs": [
    {
     "name": "stdout",
     "output_type": "stream",
     "text": [
      "\"builtin.module\"() ({\n",
      "  \"toy.func\"() ({\n",
      "    %0 = \"toy.constant\"() {\"value\" = dense<[[1, 2, 3], [4, 5, 6]]> : tensor<2x3xi32>} : () -> tensor<2x3xi32>\n",
      "    %1 = \"toy.constant\"() {\"value\" = dense<[[1, 2, 3], [4, 5, 6]]> : tensor<2x3xi32>} : () -> tensor<2x3xi32>\n",
      "    %2 = \"toy.add\"(%0, %1) : (tensor<2x3xi32>, tensor<2x3xi32>) -> tensor<2x3xi32>\n",
      "    \"toy.print\"(%2) : (tensor<2x3xi32>) -> ()\n",
      "    \"toy.return\"() : () -> ()\n",
      "  }) {\"sym_name\" = \"main\", \"function_type\" = () -> ()} : () -> ()\n",
      "}) : () -> ()\n",
      "\n"
     ]
    }
   ],
   "source": [
    "### Chapter 3\n",
    "\n",
    "toy_1 = optimise_toy(toy_0)\n",
    "print_op(toy_1)\n",
    "print()\n",
    "\n",
    "### Contents\n",
    "\n",
    "# Reshape of a constant can be done by changing the constant\n",
    "# "
   ]
  },
  {
   "cell_type": "code",
   "execution_count": 27,
   "metadata": {},
   "outputs": [
    {
     "name": "stdout",
     "output_type": "stream",
     "text": [
      "\"builtin.module\"() ({\n",
      "  \"toy.func\"() ({\n",
      "    %0 = \"toy.vector.constant\"() {\"data\" = [#int<2>, #int<3>], \"label\" = \"tensor_shape\"} : () -> #riscv_ssa.reg\n",
      "    %1 = \"toy.vector.constant\"() {\"data\" = [#int<1>, #int<2>, #int<3>, #int<4>, #int<5>, #int<6>], \"label\" = \"tensor_data\"} : () -> #riscv_ssa.reg\n",
      "    %2 = \"toy.tensor.make\"(%0, %1) : (#riscv_ssa.reg, #riscv_ssa.reg) -> #riscv_ssa.reg\n",
      "    \"toy.print\"(%2) : (#riscv_ssa.reg) -> ()\n",
      "    \"toy.return\"() : () -> ()\n",
      "  }) {\"sym_name\" = \"main\", \"function_type\" = () -> ()} : () -> ()\n",
      "}) : () -> ()\n",
      "\n"
     ]
    }
   ],
   "source": [
    "# Chapter 4\n",
    "\n",
    "vir_0 = lower_from_toy(toy_1)\n",
    "print_op(vir_0)\n",
    "print()\n",
    "\n",
    "### Contents\n",
    "\n",
    "# Lowering implementation\n"
   ]
  },
  {
   "cell_type": "code",
   "execution_count": 28,
   "metadata": {},
   "outputs": [
    {
     "name": "stdout",
     "output_type": "stream",
     "text": [
      "\"builtin.module\"() ({\n",
      "  \"toy.func\"() ({\n",
      "    %0 = \"toy.vector.constant\"() {\"data\" = [#int<2>, #int<3>], \"label\" = \"tensor_shape\"} : () -> #riscv_ssa.reg\n",
      "    %1 = \"toy.vector.constant\"() {\"data\" = [#int<1>, #int<2>, #int<3>, #int<4>, #int<5>, #int<6>], \"label\" = \"tensor_data\"} : () -> #riscv_ssa.reg\n",
      "    %2 = \"toy.tensor.make\"(%0, %1) : (#riscv_ssa.reg, #riscv_ssa.reg) -> #riscv_ssa.reg\n",
      "    \"toy.print\"(%2) : (#riscv_ssa.reg) -> ()\n",
      "    \"toy.return\"() : () -> ()\n",
      "  }) {\"sym_name\" = \"main\", \"function_type\" = () -> ()} : () -> ()\n",
      "}) : () -> ()\n",
      "\n"
     ]
    }
   ],
   "source": [
    "# Chapter 5\n",
    "\n",
    "vir_1 = optimise_vir(vir_0)\n",
    "print_op(vir_1)\n",
    "print()"
   ]
  },
  {
   "cell_type": "code",
   "execution_count": 29,
   "metadata": {},
   "outputs": [
    {
     "name": "stdout",
     "output_type": "stream",
     "text": [
      "\"builtin.module\"() ({\n",
      "  \"riscv.section\"() ({\n",
      "    \"riscv_ssa.label\"() {\"label\" = #riscv.label<heap>} : () -> ()\n",
      "    \"riscv_ssa.directive\"() {\"directive\" = \".space\", \"value\" = \"1024\"} : () -> ()\n",
      "  }) {\"directive\" = \".bss\"} : () -> ()\n",
      "  \"riscv.section\"() ({\n",
      "    \"riscv_ssa.label\"() {\"label\" = #riscv.label<main.tensor_shape.5>} : () -> ()\n",
      "    \"riscv_ssa.directive\"() {\"directive\" = \".word\", \"value\" = \"0x2, 0x2, 0x3\"} : () -> ()\n",
      "    \"riscv_ssa.label\"() {\"label\" = #riscv.label<main.tensor_data.5>} : () -> ()\n",
      "    \"riscv_ssa.directive\"() {\"directive\" = \".word\", \"value\" = \"0x6, 0x1, 0x2, 0x3, 0x4, 0x5, 0x6\"} : () -> ()\n",
      "  }) {\"directive\" = \".data\"} : () -> ()\n",
      "  \"riscv.section\"() ({\n",
      "    \"riscv_ssa.func\"() ({\n",
      "      %0 = \"riscv_ssa.li\"() {\"immediate\" = #riscv.label<heap>} : () -> #riscv_ssa.reg\n",
      "      %1 = \"riscv_ssa.li\"() {\"immediate\" = #riscv.label<main.tensor_shape.5>} : () -> #riscv_ssa.reg\n",
      "      %2 = \"riscv_ssa.li\"() {\"immediate\" = #riscv.label<main.tensor_data.5>} : () -> #riscv_ssa.reg\n",
      "      %3 = \"riscv_ssa.li\"() {\"immediate\" = 2 : i32, \"comment\" = \"Tensor storage\"} : () -> #riscv_ssa.reg\n",
      "      %4 = \"riscv_ssa.li\"() {\"immediate\" = 4 : i32, \"comment\" = \"4 bytes per int\"} : () -> #riscv_ssa.reg\n",
      "      %5 = \"riscv_ssa.mul\"(%3, %4) {\"comment\" = \"Alloc count bytes\"} : (#riscv_ssa.reg, #riscv_ssa.reg) -> #riscv_ssa.reg\n",
      "      %6 = \"riscv_ssa.lw\"(%0) {\"immediate\" = 0 : i32, \"comment\" = \"Old heap count\"} : (#riscv_ssa.reg) -> #riscv_ssa.reg\n",
      "      %7 = \"riscv_ssa.add\"(%6, %5) {\"comment\" = \"New heap count\"} : (#riscv_ssa.reg, #riscv_ssa.reg) -> #riscv_ssa.reg\n",
      "      \"riscv_ssa.sw\"(%7, %0) {\"immediate\" = 0 : i32, \"comment\" = \"Update heap\"} : (#riscv_ssa.reg, #riscv_ssa.reg) -> ()\n",
      "      %8 = \"riscv_ssa.addi\"(%0) {\"immediate\" = 4 : i32, \"comment\" = \"Heap storage start\"} : (#riscv_ssa.reg) -> #riscv_ssa.reg\n",
      "      %9 = \"riscv_ssa.add\"(%8, %6) {\"comment\" = \"Allocated memory\"} : (#riscv_ssa.reg, #riscv_ssa.reg) -> #riscv_ssa.reg\n",
      "      \"riscv_ssa.sw\"(%1, %9) {\"immediate\" = 0 : i32, \"comment\" = \"Set tensor shape\"} : (#riscv_ssa.reg, #riscv_ssa.reg) -> ()\n",
      "      %10 = \"riscv_ssa.lw\"(%9) {\"immediate\" = 0 : i32} : (#riscv_ssa.reg) -> #riscv_ssa.reg\n",
      "      \"riscv_ssa.sw\"(%2, %9) {\"immediate\" = 4 : i32, \"comment\" = \"Set tensor data\"} : (#riscv_ssa.reg, #riscv_ssa.reg) -> ()\n",
      "      \"riscv.toy.print\"(%9) : (#riscv_ssa.reg) -> ()\n",
      "      \"riscv_ssa.return\"() : () -> ()\n",
      "    }) {\"func_name\" = \"main\"} : () -> ()\n",
      "  }) {\"directive\" = \".text\"} : () -> ()\n",
      "}) : () -> ()\n",
      "\n"
     ]
    }
   ],
   "source": [
    "# Chapter 6\n",
    "\n",
    "riscv_0 = lower_to_riscv(vir_1)\n",
    "print_op(riscv_0)\n",
    "print()"
   ]
  },
  {
   "cell_type": "code",
   "execution_count": 30,
   "metadata": {},
   "outputs": [
    {
     "name": "stdout",
     "output_type": "stream",
     "text": [
      ".bss \n",
      "heap:\n",
      ".space 1024\n",
      ".data \n",
      "main.tensor_shape.5:\n",
      ".word 0x2, 0x2, 0x3\n",
      "main.tensor_data.5:\n",
      ".word 0x6, 0x1, 0x2, 0x3, 0x4, 0x5, 0x6\n",
      ".text \n",
      "main:\n",
      "\tli\t%0, heap\n",
      "\tli\t%1, main.tensor_shape.5\n",
      "\tli\t%2, main.tensor_data.5\n",
      "\tli\t%3, 2\n",
      "\tli\t%4, 4\n",
      "\tmul\t%5, %3, %4\t\t# Alloc count bytes\n",
      "\tlw\t%6, %0, 0\t\t# Old heap count\n",
      "\tadd\t%7, %6, %5\t\t# New heap count\n",
      "\tsw\t%7, %0, 0\t\t# Update heap\n",
      "\taddi\t%8, %0, 4\t\t# Heap storage start\n",
      "\tadd\t%9, %8, %6\t\t# Allocated memory\n",
      "\tsw\t%1, %9, 0\t\t# Set tensor shape\n",
      "\tlw\t%10, %9, 0\n",
      "\tsw\t%2, %9, 4\t\t# Set tensor data\n",
      "\ttoy.print\t%9\n",
      "\tli\ta7, 93\n",
      "\tscall\n",
      "\n",
      "\n"
     ]
    }
   ],
   "source": [
    "code = print_riscv_ssa(riscv_0)\n",
    "print(code)\n",
    "print()"
   ]
  },
  {
   "cell_type": "code",
   "execution_count": 31,
   "metadata": {},
   "outputs": [
    {
     "name": "stdout",
     "output_type": "stream",
     "text": [
      "\u001b[34m\u001b[1m[CPU] Started running from example.asm:.text at heap (0x100) + 0x428\u001b[0m\n",
      "Program(name=example.asm,sections=set(),base=['.bss', '.data', '.text'])\n",
      "[[1, 2, 3], [4, 5, 6]]\n",
      "\u001b[34m\u001b[1m[CPU] Program exited with code 0\u001b[0m\n"
     ]
    }
   ],
   "source": [
    "emulate_riscv(code)"
   ]
  },
  {
   "cell_type": "code",
   "execution_count": null,
   "metadata": {},
   "outputs": [],
   "source": []
  }
 ],
 "metadata": {
  "kernelspec": {
   "display_name": "Python 3 (ipykernel)",
   "language": "python",
   "name": "python3"
  },
  "language_info": {
   "codemirror_mode": {
    "name": "ipython",
    "version": 3
   },
   "file_extension": ".py",
   "mimetype": "text/x-python",
   "name": "python",
   "nbconvert_exporter": "python",
   "pygments_lexer": "ipython3",
   "version": "3.10.7"
  },
  "vscode": {
   "interpreter": {
    "hash": "0d6790b426e2d71827724f01810f2f8f578a9246b0feca7b7fe6fc65e1a78cd0"
   }
  }
 },
 "nbformat": 4,
 "nbformat_minor": 4
}

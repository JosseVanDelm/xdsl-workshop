{
 "cells": [
  {
   "cell_type": "code",
   "execution_count": null,
   "metadata": {},
   "outputs": [],
   "source": [
    "from __future__ import annotations\n",
    "\n",
    "from xdsl.dialects.builtin import ModuleOp\n",
    "\n",
    "from toy_to_riscv.helpers import (parse_toy, print_module, optimise_toy, lower_from_toy, \n",
    "                                  optimise_vir, lower_to_riscv, emulate_riscv)\n",
    "\n",
    "from riscv.emulator_iop import run_riscv, print_riscv_ssa\n",
    "\n",
    "import toy.dialect as td\n",
    "import riscv.riscv_ssa as rd\n",
    "import toy_to_riscv.dialect as trd\n",
    "\n",
    "### WIP\n",
    "\n",
    "example = \"\"\"\n",
    "def main() {\n",
    "  var a<2, 3> = [[1, 2, 3], [4, 5, 6]];\n",
    "  var b<6> = [1, 2, 3, 4, 5, 6];\n",
    "  var c<2, 3> = b;\n",
    "  var d = a + c;\n",
    "  print(d);\n",
    "}\n",
    "\"\"\"\n",
    "\n",
    "### WIP\n",
    "\n",
    "toy_0 = parse_toy(example)\n",
    "toy_1 = optimise_toy(toy_0)\n",
    "print_module(toy_1)\n",
    "print()"
   ]
  },
  {
   "cell_type": "code",
   "execution_count": null,
   "metadata": {},
   "outputs": [],
   "source": [
    "vir_0 = lower_from_toy(toy_1)\n",
    "print_module(vir_0)\n",
    "print()\n",
    "\n",
    "vir_1 = optimise_vir(vir_0)\n",
    "print_module(vir_1)\n",
    "print()"
   ]
  },
  {
   "cell_type": "code",
   "execution_count": null,
   "metadata": {},
   "outputs": [],
   "source": [
    "riscv_0 = lower_to_riscv(vir_1)\n",
    "print_module(riscv_0)\n",
    "print()"
   ]
  },
  {
   "cell_type": "code",
   "execution_count": null,
   "metadata": {},
   "outputs": [],
   "source": [
    "code = print_riscv_ssa(riscv_0)\n",
    "print(code)\n",
    "print()"
   ]
  },
  {
   "cell_type": "code",
   "execution_count": null,
   "metadata": {},
   "outputs": [],
   "source": [
    "emulate_riscv(code)"
   ]
  },
  {
   "cell_type": "code",
   "execution_count": null,
   "metadata": {},
   "outputs": [],
   "source": []
  }
 ],
 "metadata": {
  "kernelspec": {
   "display_name": "Python 3 (ipykernel)",
   "language": "python",
   "name": "python3"
  },
  "language_info": {
   "codemirror_mode": {
    "name": "ipython",
    "version": 3
   },
   "file_extension": ".py",
   "mimetype": "text/x-python",
   "name": "python",
   "nbconvert_exporter": "python",
   "pygments_lexer": "ipython3",
   "version": "3.10.7"
  },
  "vscode": {
   "interpreter": {
    "hash": "0d6790b426e2d71827724f01810f2f8f578a9246b0feca7b7fe6fc65e1a78cd0"
   }
  }
 },
 "nbformat": 4,
 "nbformat_minor": 4
}

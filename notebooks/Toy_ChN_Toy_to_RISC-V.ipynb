{
 "cells": [
  {
   "cell_type": "code",
   "execution_count": 1,
   "metadata": {},
   "outputs": [
    {
     "name": "stdout",
     "output_type": "stream",
     "text": [
      "\"builtin.module\"() ({\n",
      "  \"toy.func\"() ({\n",
      "    %0 = \"toy.constant\"() {\"value\" = dense<[[1, 2, 3], [4, 5, 6]]> : tensor<2x3xi32>} : () -> tensor<2x3xi32>\n",
      "    %1 = \"toy.constant\"() {\"value\" = dense<[[1, 2, 3], [4, 5, 6]]> : tensor<2x3xi32>} : () -> tensor<2x3xi32>\n",
      "    %2 = \"toy.add\"(%0, %1) : (tensor<2x3xi32>, tensor<2x3xi32>) -> tensor<2x3xi32>\n",
      "    \"toy.print\"(%2) : (tensor<2x3xi32>) -> ()\n",
      "    \"toy.return\"() : () -> ()\n",
      "  }) {\"sym_name\" = \"main\", \"function_type\" = () -> ()} : () -> ()\n",
      "}) : () -> ()\n",
      "\n"
     ]
    }
   ],
   "source": [
    "from __future__ import annotations\n",
    "\n",
    "from xdsl.dialects.builtin import ModuleOp\n",
    "\n",
    "from toy_to_riscv.helpers import (parse_toy, print_module, optimise_toy, lower_from_toy, \n",
    "                                  optimise_vir, lower_to_riscv, emulate_riscv)\n",
    "\n",
    "from riscv.emulator_iop import run_riscv, print_riscv_ssa\n",
    "\n",
    "import toy.dialect as td\n",
    "import riscv.riscv_ssa as rd\n",
    "import toy_to_riscv.dialect as trd\n",
    "\n",
    "### WIP\n",
    "\n",
    "example = \"\"\"\n",
    "def main() {\n",
    "  var a<2, 3> = [[1, 2, 3], [4, 5, 6]];\n",
    "  var b<6> = [1, 2, 3, 4, 5, 6];\n",
    "  var c<2, 3> = b;\n",
    "  var d = a + c;\n",
    "  print(d);\n",
    "}\n",
    "\"\"\"\n",
    "\n",
    "### WIP\n",
    "\n",
    "toy_0 = parse_toy(example)\n",
    "toy_1 = optimise_toy(toy_0)\n",
    "print_module(toy_1)\n",
    "print()"
   ]
  },
  {
   "cell_type": "code",
   "execution_count": 2,
   "metadata": {},
   "outputs": [
    {
     "name": "stdout",
     "output_type": "stream",
     "text": [
      "\"builtin.module\"() ({\n",
      "  \"toy.func\"() ({\n",
      "    %0 = \"riscv.toy.vector_constant\"() {\"data\" = [#int<2>, #int<3>], \"label\" = \"tensor_shape\"} : () -> #riscv_ssa.reg\n",
      "    %1 = \"riscv.toy.vector_constant\"() {\"data\" = [#int<1>, #int<2>, #int<3>, #int<4>, #int<5>, #int<6>], \"label\" = \"tensor_data\"} : () -> #riscv_ssa.reg\n",
      "    %2 = \"riscv.toy.tensor.make\"(%0, %1) : (#riscv_ssa.reg, #riscv_ssa.reg) -> #riscv_ssa.reg\n",
      "    %3 = \"riscv.toy.vector_constant\"() {\"data\" = [#int<2>, #int<3>], \"label\" = \"tensor_shape\"} : () -> #riscv_ssa.reg\n",
      "    %4 = \"riscv.toy.vector_constant\"() {\"data\" = [#int<1>, #int<2>, #int<3>, #int<4>, #int<5>, #int<6>], \"label\" = \"tensor_data\"} : () -> #riscv_ssa.reg\n",
      "    %5 = \"riscv.toy.tensor.make\"(%3, %4) : (#riscv_ssa.reg, #riscv_ssa.reg) -> #riscv_ssa.reg\n",
      "    %6 = \"riscv.toy.tensor.shape\"(%2) : (#riscv_ssa.reg) -> #riscv_ssa.reg\n",
      "    %7 = \"riscv.toy.tensor.data\"(%2) : (#riscv_ssa.reg) -> #riscv_ssa.reg\n",
      "    %8 = \"riscv.toy.tensor.data\"(%5) : (#riscv_ssa.reg) -> #riscv_ssa.reg\n",
      "    %9 = \"riscv.toy.vector.add\"(%7, %8) : (#riscv_ssa.reg, #riscv_ssa.reg) -> #riscv_ssa.reg\n",
      "    %10 = \"riscv.toy.tensor.make\"(%6, %9) : (#riscv_ssa.reg, #riscv_ssa.reg) -> #riscv_ssa.reg\n",
      "    \"toy.print\"(%10) : (#riscv_ssa.reg) -> ()\n",
      "    \"toy.return\"() : () -> ()\n",
      "  }) {\"sym_name\" = \"main\", \"function_type\" = () -> ()} : () -> ()\n",
      "}) : () -> ()\n",
      "\n",
      "\"builtin.module\"() ({\n",
      "  \"toy.func\"() ({\n",
      "    %0 = \"riscv.toy.vector_constant\"() {\"data\" = [#int<2>, #int<3>], \"label\" = \"tensor_shape\"} : () -> #riscv_ssa.reg\n",
      "    %1 = \"riscv.toy.vector_constant\"() {\"data\" = [#int<1>, #int<2>, #int<3>, #int<4>, #int<5>, #int<6>], \"label\" = \"tensor_data\"} : () -> #riscv_ssa.reg\n",
      "    %2 = \"riscv.toy.vector_constant\"() {\"data\" = [#int<2>, #int<3>], \"label\" = \"tensor_shape\"} : () -> #riscv_ssa.reg\n",
      "    %3 = \"riscv.toy.vector_constant\"() {\"data\" = [#int<1>, #int<2>, #int<3>, #int<4>, #int<5>, #int<6>], \"label\" = \"tensor_data\"} : () -> #riscv_ssa.reg\n",
      "    %4 = \"riscv.toy.vector.add\"(%1, %3) : (#riscv_ssa.reg, #riscv_ssa.reg) -> #riscv_ssa.reg\n",
      "    %5 = \"riscv.toy.tensor.make\"(%0, %4) : (#riscv_ssa.reg, #riscv_ssa.reg) -> #riscv_ssa.reg\n",
      "    \"toy.print\"(%5) : (#riscv_ssa.reg) -> ()\n",
      "    \"toy.return\"() : () -> ()\n",
      "  }) {\"sym_name\" = \"main\", \"function_type\" = () -> ()} : () -> ()\n",
      "}) : () -> ()\n",
      "\n"
     ]
    }
   ],
   "source": [
    "vir_0 = lower_from_toy(toy_1)\n",
    "print_module(vir_0)\n",
    "print()\n",
    "\n",
    "vir_1 = optimise_vir(vir_0)\n",
    "print_module(vir_1)\n",
    "print()"
   ]
  },
  {
   "cell_type": "code",
   "execution_count": 3,
   "metadata": {},
   "outputs": [
    {
     "name": "stdout",
     "output_type": "stream",
     "text": [
      "\"builtin.module\"() ({\n",
      "  \"riscv.section\"() ({\n",
      "    \"riscv_ssa.label\"() {\"label\" = #riscv.label<heap>} : () -> ()\n",
      "    \"riscv_ssa.directive\"() {\"directive\" = \".space\", \"value\" = \"1024\"} : () -> ()\n",
      "  }) {\"directive\" = \".bss\"} : () -> ()\n",
      "  \"riscv.section\"() ({\n",
      "    \"riscv_ssa.label\"() {\"label\" = #riscv.label<main.tensor_shape.0>} : () -> ()\n",
      "    \"riscv_ssa.directive\"() {\"directive\" = \".word\", \"value\" = \"0x2, 0x2, 0x3\"} : () -> ()\n",
      "    \"riscv_ssa.label\"() {\"label\" = #riscv.label<main.tensor_data.0>} : () -> ()\n",
      "    \"riscv_ssa.directive\"() {\"directive\" = \".word\", \"value\" = \"0x6, 0x1, 0x2, 0x3, 0x4, 0x5, 0x6\"} : () -> ()\n",
      "    \"riscv_ssa.label\"() {\"label\" = #riscv.label<main.tensor_shape.1>} : () -> ()\n",
      "    \"riscv_ssa.directive\"() {\"directive\" = \".word\", \"value\" = \"0x2, 0x2, 0x3\"} : () -> ()\n",
      "    \"riscv_ssa.label\"() {\"label\" = #riscv.label<main.tensor_data.1>} : () -> ()\n",
      "    \"riscv_ssa.directive\"() {\"directive\" = \".word\", \"value\" = \"0x6, 0x1, 0x2, 0x3, 0x4, 0x5, 0x6\"} : () -> ()\n",
      "  }) {\"directive\" = \".data\"} : () -> ()\n",
      "  \"riscv.section\"() ({\n",
      "    \"riscv_ssa.func\"() ({\n",
      "      %0 = \"riscv_ssa.li\"() {\"immediate\" = #riscv.label<heap>} : () -> #riscv_ssa.reg\n",
      "      %1 = \"riscv_ssa.li\"() {\"immediate\" = #riscv.label<main.tensor_shape.0>} : () -> #riscv_ssa.reg\n",
      "      %2 = \"riscv_ssa.li\"() {\"immediate\" = #riscv.label<main.tensor_data.0>} : () -> #riscv_ssa.reg\n",
      "      %3 = \"riscv_ssa.li\"() {\"immediate\" = #riscv.label<main.tensor_shape.1>} : () -> #riscv_ssa.reg\n",
      "      %4 = \"riscv_ssa.li\"() {\"immediate\" = #riscv.label<main.tensor_data.1>} : () -> #riscv_ssa.reg\n",
      "      %5 = \"riscv_ssa.lw\"(%2) {\"immediate\" = 0 : i32, \"comment\" = \"Get input count\"} : (#riscv_ssa.reg) -> #riscv_ssa.reg\n",
      "      %6 = \"riscv_ssa.addi\"(%5) {\"immediate\" = 4 : i32, \"comment\" = \"Input storage int32 count\"} : (#riscv_ssa.reg) -> #riscv_ssa.reg\n",
      "      %7 = \"riscv_ssa.li\"() {\"immediate\" = 4 : i32, \"comment\" = \"4 bytes per int\"} : () -> #riscv_ssa.reg\n",
      "      %8 = \"riscv_ssa.mul\"(%6, %7) {\"comment\" = \"Alloc count bytes\"} : (#riscv_ssa.reg, #riscv_ssa.reg) -> #riscv_ssa.reg\n",
      "      %9 = \"riscv_ssa.lw\"(%0) {\"immediate\" = 0 : i32, \"comment\" = \"Old heap count\"} : (#riscv_ssa.reg) -> #riscv_ssa.reg\n",
      "      %10 = \"riscv_ssa.add\"(%9, %8) {\"comment\" = \"New heap count\"} : (#riscv_ssa.reg, #riscv_ssa.reg) -> #riscv_ssa.reg\n",
      "      \"riscv_ssa.sw\"(%10, %0) {\"immediate\" = 0 : i32, \"comment\" = \"Update heap\"} : (#riscv_ssa.reg, #riscv_ssa.reg) -> ()\n",
      "      %11 = \"riscv_ssa.addi\"(%0) {\"immediate\" = 4 : i32, \"comment\" = \"Heap storage start\"} : (#riscv_ssa.reg) -> #riscv_ssa.reg\n",
      "      %12 = \"riscv_ssa.add\"(%11, %9) {\"comment\" = \"Allocated memory\"} : (#riscv_ssa.reg, #riscv_ssa.reg) -> #riscv_ssa.reg\n",
      "      \"riscv_ssa.sw\"(%5, %12) {\"immediate\" = 0 : i32, \"comment\" = \"Set result count\"} : (#riscv_ssa.reg, #riscv_ssa.reg) -> ()\n",
      "      %13 = \"riscv_ssa.addi\"(%2) {\"immediate\" = 4 : i32, \"comment\" = \"lhs storage\"} : (#riscv_ssa.reg) -> #riscv_ssa.reg\n",
      "      %14 = \"riscv_ssa.addi\"(%4) {\"immediate\" = 4 : i32, \"comment\" = \"lhs storage\"} : (#riscv_ssa.reg) -> #riscv_ssa.reg\n",
      "      %15 = \"riscv_ssa.addi\"(%12) {\"immediate\" = 4 : i32, \"comment\" = \"destination storage\"} : (#riscv_ssa.reg) -> #riscv_ssa.reg\n",
      "      \"riscv.toy.buffer.add\"(%5, %13, %15) : (#riscv_ssa.reg, #riscv_ssa.reg, #riscv_ssa.reg) -> ()\n",
      "      \"riscv.toy.buffer.add\"(%5, %14, %15) : (#riscv_ssa.reg, #riscv_ssa.reg, #riscv_ssa.reg) -> ()\n",
      "      %16 = \"riscv_ssa.li\"() {\"immediate\" = 2 : i32, \"comment\" = \"Tensor storage\"} : () -> #riscv_ssa.reg\n",
      "      %17 = \"riscv_ssa.li\"() {\"immediate\" = 4 : i32, \"comment\" = \"4 bytes per int\"} : () -> #riscv_ssa.reg\n",
      "      %18 = \"riscv_ssa.mul\"(%16, %17) {\"comment\" = \"Alloc count bytes\"} : (#riscv_ssa.reg, #riscv_ssa.reg) -> #riscv_ssa.reg\n",
      "      %19 = \"riscv_ssa.lw\"(%0) {\"immediate\" = 0 : i32, \"comment\" = \"Old heap count\"} : (#riscv_ssa.reg) -> #riscv_ssa.reg\n",
      "      %20 = \"riscv_ssa.add\"(%19, %18) {\"comment\" = \"New heap count\"} : (#riscv_ssa.reg, #riscv_ssa.reg) -> #riscv_ssa.reg\n",
      "      \"riscv_ssa.sw\"(%20, %0) {\"immediate\" = 0 : i32, \"comment\" = \"Update heap\"} : (#riscv_ssa.reg, #riscv_ssa.reg) -> ()\n",
      "      %21 = \"riscv_ssa.addi\"(%0) {\"immediate\" = 4 : i32, \"comment\" = \"Heap storage start\"} : (#riscv_ssa.reg) -> #riscv_ssa.reg\n",
      "      %22 = \"riscv_ssa.add\"(%21, %19) {\"comment\" = \"Allocated memory\"} : (#riscv_ssa.reg, #riscv_ssa.reg) -> #riscv_ssa.reg\n",
      "      \"riscv_ssa.sw\"(%1, %22) {\"immediate\" = 0 : i32, \"comment\" = \"Set tensor shape\"} : (#riscv_ssa.reg, #riscv_ssa.reg) -> ()\n",
      "      %23 = \"riscv_ssa.lw\"(%22) {\"immediate\" = 0 : i32} : (#riscv_ssa.reg) -> #riscv_ssa.reg\n",
      "      \"riscv_ssa.sw\"(%12, %22) {\"immediate\" = 4 : i32, \"comment\" = \"Set tensor data\"} : (#riscv_ssa.reg, #riscv_ssa.reg) -> ()\n",
      "      \"riscv.toy.tensor.print\"(%22) : (#riscv_ssa.reg) -> ()\n",
      "      \"riscv_ssa.return\"() : () -> ()\n",
      "    }) {\"func_name\" = \"main\"} : () -> ()\n",
      "  }) {\"directive\" = \".text\"} : () -> ()\n",
      "}) : () -> ()\n",
      "\n"
     ]
    }
   ],
   "source": [
    "riscv_0 = lower_to_riscv(vir_1)\n",
    "print_module(riscv_0)\n",
    "print()"
   ]
  },
  {
   "cell_type": "code",
   "execution_count": 4,
   "metadata": {},
   "outputs": [
    {
     "name": "stdout",
     "output_type": "stream",
     "text": [
      ".bss \n",
      "heap:\n",
      ".space 1024\n",
      ".data \n",
      "main.tensor_shape.0:\n",
      ".word 0x2, 0x2, 0x3\n",
      "main.tensor_data.0:\n",
      ".word 0x6, 0x1, 0x2, 0x3, 0x4, 0x5, 0x6\n",
      "main.tensor_shape.1:\n",
      ".word 0x2, 0x2, 0x3\n",
      "main.tensor_data.1:\n",
      ".word 0x6, 0x1, 0x2, 0x3, 0x4, 0x5, 0x6\n",
      ".text \n",
      "main:\n",
      "\tli\t%0, heap\n",
      "\tli\t%1, main.tensor_shape.0\n",
      "\tli\t%2, main.tensor_data.0\n",
      "\tli\t%3, main.tensor_shape.1\n",
      "\tli\t%4, main.tensor_data.1\n",
      "\tlw\t%5, %2, 0\t\t# Get input count\n",
      "\taddi\t%6, %5, 4\t\t# Input storage int32 count\n",
      "\tli\t%7, 4\n",
      "\tmul\t%8, %6, %7\t\t# Alloc count bytes\n",
      "\tlw\t%9, %0, 0\t\t# Old heap count\n",
      "\tadd\t%10, %9, %8\t\t# New heap count\n",
      "\tsw\t%10, %0, 0\t\t# Update heap\n",
      "\taddi\t%11, %0, 4\t\t# Heap storage start\n",
      "\tadd\t%12, %11, %9\t\t# Allocated memory\n",
      "\tsw\t%5, %12, 0\t\t# Set result count\n",
      "\taddi\t%13, %2, 4\t\t# lhs storage\n",
      "\taddi\t%14, %4, 4\t\t# lhs storage\n",
      "\taddi\t%15, %12, 4\t\t# destination storage\n",
      "\ttoy.buffer.add\t%5, %13, %15\n",
      "\ttoy.buffer.add\t%5, %14, %15\n",
      "\tli\t%16, 2\n",
      "\tli\t%17, 4\n",
      "\tmul\t%18, %16, %17\t\t# Alloc count bytes\n",
      "\tlw\t%19, %0, 0\t\t# Old heap count\n",
      "\tadd\t%20, %19, %18\t\t# New heap count\n",
      "\tsw\t%20, %0, 0\t\t# Update heap\n",
      "\taddi\t%21, %0, 4\t\t# Heap storage start\n",
      "\tadd\t%22, %21, %19\t\t# Allocated memory\n",
      "\tsw\t%1, %22, 0\t\t# Set tensor shape\n",
      "\tlw\t%23, %22, 0\n",
      "\tsw\t%12, %22, 4\t\t# Set tensor data\n",
      "\ttoy.tensor.print\t%22\n",
      "\tli\ta7, 93\n",
      "\tscall\n",
      "\n",
      "\n"
     ]
    }
   ],
   "source": [
    "code = print_riscv_ssa(riscv_0)\n",
    "print(code)\n",
    "print()"
   ]
  },
  {
   "cell_type": "code",
   "execution_count": 5,
   "metadata": {},
   "outputs": [
    {
     "name": "stdout",
     "output_type": "stream",
     "text": [
      "\u001b[34m\u001b[1m[CPU] Started running from example.asm:.text at heap (0x100) + 0x450\u001b[0m\n",
      "Program(name=example.asm,sections=set(),base=['.bss', '.data', '.text'])\n",
      "\u001b[34m\u001b[1m   Running 0x00000550:\u001b[0m li %0, heap\n",
      "\u001b[34m\u001b[1m   Running 0x00000554:\u001b[0m li %1, main.tensor_shape.0\n",
      "\u001b[34m\u001b[1m   Running 0x00000558:\u001b[0m li %2, main.tensor_data.0\n",
      "\u001b[34m\u001b[1m   Running 0x0000055C:\u001b[0m li %3, main.tensor_shape.1\n",
      "\u001b[34m\u001b[1m   Running 0x00000560:\u001b[0m li %4, main.tensor_data.1\n",
      "\u001b[34m\u001b[1m   Running 0x00000564:\u001b[0m lw %5, %2, 0\n",
      "\u001b[34m\u001b[1m   Running 0x00000568:\u001b[0m addi %6, %5, 4\n",
      "\u001b[34m\u001b[1m   Running 0x0000056C:\u001b[0m li %7, 4\n",
      "\u001b[34m\u001b[1m   Running 0x00000570:\u001b[0m mul %8, %6, %7\n",
      "\u001b[34m\u001b[1m   Running 0x00000574:\u001b[0m lw %9, %0, 0\n",
      "\u001b[34m\u001b[1m   Running 0x00000578:\u001b[0m add %10, %9, %8\n",
      "\u001b[34m\u001b[1m   Running 0x0000057C:\u001b[0m sw %10, %0, 0\n",
      "\u001b[34m\u001b[1m   Running 0x00000580:\u001b[0m addi %11, %0, 4\n",
      "\u001b[34m\u001b[1m   Running 0x00000584:\u001b[0m add %12, %11, %9\n",
      "\u001b[34m\u001b[1m   Running 0x00000588:\u001b[0m sw %5, %12, 0\n",
      "\u001b[34m\u001b[1m   Running 0x0000058C:\u001b[0m addi %13, %2, 4\n",
      "\u001b[34m\u001b[1m   Running 0x00000590:\u001b[0m addi %14, %4, 4\n",
      "\u001b[34m\u001b[1m   Running 0x00000594:\u001b[0m addi %15, %12, 4\n",
      "\u001b[34m\u001b[1m   Running 0x00000598:\u001b[0m toy.buffer.add %5, %13, %15\n",
      "\u001b[34m\u001b[1m   Running 0x0000059C:\u001b[0m toy.buffer.add %5, %14, %15\n",
      "\u001b[34m\u001b[1m   Running 0x000005A0:\u001b[0m li %16, 2\n",
      "\u001b[34m\u001b[1m   Running 0x000005A4:\u001b[0m li %17, 4\n",
      "\u001b[34m\u001b[1m   Running 0x000005A8:\u001b[0m mul %18, %16, %17\n",
      "\u001b[34m\u001b[1m   Running 0x000005AC:\u001b[0m lw %19, %0, 0\n",
      "\u001b[34m\u001b[1m   Running 0x000005B0:\u001b[0m add %20, %19, %18\n",
      "\u001b[34m\u001b[1m   Running 0x000005B4:\u001b[0m sw %20, %0, 0\n",
      "\u001b[34m\u001b[1m   Running 0x000005B8:\u001b[0m addi %21, %0, 4\n",
      "\u001b[34m\u001b[1m   Running 0x000005BC:\u001b[0m add %22, %21, %19\n",
      "\u001b[34m\u001b[1m   Running 0x000005C0:\u001b[0m sw %1, %22, 0\n",
      "\u001b[34m\u001b[1m   Running 0x000005C4:\u001b[0m lw %23, %22, 0\n",
      "\u001b[34m\u001b[1m   Running 0x000005C8:\u001b[0m sw %12, %22, 4\n",
      "\u001b[34m\u001b[1m   Running 0x000005CC:\u001b[0m toy.tensor.print %22\n",
      "[[2, 4, 6], [8, 10, 12]]\n",
      "\u001b[34m\u001b[1m   Running 0x000005D0:\u001b[0m li a7, 93\n",
      "\u001b[34m\u001b[1m   Running 0x000005D4:\u001b[0m scall \n",
      "\u001b[34m\u001b[1m[CPU] Program exited with code 0\u001b[0m\n"
     ]
    }
   ],
   "source": [
    "emulate_riscv(code)"
   ]
  },
  {
   "cell_type": "code",
   "execution_count": null,
   "metadata": {},
   "outputs": [],
   "source": []
  }
 ],
 "metadata": {
  "kernelspec": {
   "display_name": "Python 3",
   "language": "python",
   "name": "python3"
  },
  "language_info": {
   "codemirror_mode": {
    "name": "ipython",
    "version": 3
   },
   "file_extension": ".py",
   "mimetype": "text/x-python",
   "name": "python",
   "nbconvert_exporter": "python",
   "pygments_lexer": "ipython3",
   "version": "3.11.0"
  },
  "vscode": {
   "interpreter": {
    "hash": "916dbcbb3f70747c44a77c7bcd40155683ae19c65e1c03b4aa3499c5328201f1"
   }
  }
 },
 "nbformat": 4,
 "nbformat_minor": 2
}

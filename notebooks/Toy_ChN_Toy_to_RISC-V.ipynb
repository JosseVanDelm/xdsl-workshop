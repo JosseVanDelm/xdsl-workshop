{
 "cells": [
  {
   "cell_type": "code",
   "execution_count": 1,
   "metadata": {},
   "outputs": [
    {
     "ename": "SyntaxError",
     "evalue": "cannot assign to expression (accelerator.py, line 253)",
     "output_type": "error",
     "traceback": [
      "Traceback \u001b[0;36m(most recent call last)\u001b[0m:\n",
      "\u001b[0m  File \u001b[1;32m~/Develop/PapyChacal/xdsl-workshop/venv/lib/python3.11/site-packages/IPython/core/interactiveshell.py:3442\u001b[0m in \u001b[1;35mrun_code\u001b[0m\n    exec(code_obj, self.user_global_ns, self.user_ns)\u001b[0m\n",
      "\u001b[0m  Cell \u001b[1;32mIn[1], line 5\u001b[0m\n    from toy_to_riscv.helpers import (parse_toy, print_module, optimise_toy, lower_from_toy,\u001b[0m\n",
      "\u001b[0;36m  File \u001b[0;32m~/Develop/PapyChacal/xdsl-workshop/notebooks/toy_to_riscv/helpers.py:18\u001b[0;36m\n\u001b[0;31m    from .accelerator import ToyAccelerator\u001b[0;36m\n",
      "\u001b[0;36m  File \u001b[0;32m~/Develop/PapyChacal/xdsl-workshop/notebooks/toy_to_riscv/accelerator.py:253\u001b[0;36m\u001b[0m\n\u001b[0;31m    c_reg, l_reg, r_reg, d_reg = [ins.get_reg(i) for i + 1 in range(4)]\u001b[0m\n\u001b[0m                                                     ^\u001b[0m\n\u001b[0;31mSyntaxError\u001b[0m\u001b[0;31m:\u001b[0m cannot assign to expression\n"
     ]
    }
   ],
   "source": [
    "from __future__ import annotations\n",
    "\n",
    "from xdsl.dialects.builtin import ModuleOp\n",
    "\n",
    "from toy_to_riscv.helpers import (parse_toy, print_module, optimise_toy, lower_from_toy, \n",
    "                                  lower_to_riscv, emulate_riscv)\n",
    "\n",
    "from riscv.emulator_iop import run_riscv, print_riscv_ssa\n",
    "\n",
    "import toy.dialect as td\n",
    "import riscv.riscv_ssa as rd\n",
    "import toy_to_riscv.dialect as trd\n",
    "\n",
    "### WIP\n",
    "\n",
    "example = \"\"\"\n",
    "def main() {\n",
    "  var a<2, 3> = [[1, 2, 3], [4, 5, 6]];\n",
    "  var b<6> = [1, 2, 3, 4, 5, 6];\n",
    "  var c<2, 3> = b;\n",
    "  var d = a + c;\n",
    "  print(d);\n",
    "}\n",
    "\"\"\"\n",
    "\n",
    "### WIP\n",
    "\n",
    "toy_0 = parse_toy(example)\n",
    "# print_module(toy_0)\n",
    "# print()\n",
    "\n",
    "### WIP\n",
    "\n",
    "toy_1 = optimise_toy(toy_0)\n",
    "print_module(toy_1)\n",
    "print()\n",
    "\n",
    "vir_0 = lower_from_toy(toy_1)\n",
    "print_module(vir_0)\n",
    "print()\n",
    "\n",
    "### WIP\n",
    "\n",
    "riscv_0 = lower_to_riscv(vir_0)\n",
    "print_module(riscv_0)\n",
    "print()"
   ]
  },
  {
   "cell_type": "code",
   "execution_count": null,
   "metadata": {},
   "outputs": [
    {
     "name": "stdout",
     "output_type": "stream",
     "text": [
      ".bss \n",
      "heap:\n",
      ".space 1024\n",
      ".data \n",
      "main.tensor_shape.0:\n",
      ".word 0x2, 0x2, 0x3\n",
      "main.tensor_data.0:\n",
      ".word 0x6, 0x1, 0x2, 0x3, 0x4, 0x5, 0x6\n",
      "main.tensor_shape.1:\n",
      ".word 0x2, 0x2, 0x3\n",
      "main.tensor_data.1:\n",
      ".word 0x6, 0x1, 0x2, 0x3, 0x4, 0x5, 0x6\n",
      ".text \n",
      "main:\n",
      "\tli\t%0, heap\n",
      "\tli\t%1, main.tensor_shape.0\n",
      "\tli\t%2, main.tensor_data.0\n",
      "\tli\t%3, 2\n",
      "\ttoy.alloc\t%4, %3, %0\n",
      "\tprint\t%4\n",
      "\tprint\t%1\n",
      "\tsw\t%1, %4, 0\t\t# Set tensor shape\n",
      "\tlw\t%5, %4, 0\n",
      "\tprint\t%5\n",
      "\tsw\t%2, %4, 4\t\t# Set tensor data\n",
      "\tli\t%6, main.tensor_shape.1\n",
      "\tli\t%7, main.tensor_data.1\n",
      "\tli\t%8, 2\n",
      "\ttoy.alloc\t%9, %8, %0\n",
      "\tprint\t%9\n",
      "\tprint\t%6\n",
      "\tsw\t%6, %9, 0\t\t# Set tensor shape\n",
      "\tlw\t%10, %9, 0\n",
      "\tprint\t%10\n",
      "\tsw\t%7, %9, 4\t\t# Set tensor data\n",
      "\tlw\t%11, %4, 0\t\t# Get tensor shape\n",
      "\tlw\t%12, %4, 4\t\t# Get tensor data\n",
      "\tlw\t%13, %9, 4\t\t# Get tensor data\n",
      "\tlw\t%14, %12, 0\t\t# Get input count\n",
      "\tprint\t%14\n",
      "\taddi\t%15, %14, 4\t\t# Input storage int32 count\n",
      "\tprint\t%15\n",
      "\ttoy.alloc\t%16, %15, %0\n",
      "\tprint\t%16\n",
      "\tsw\t%14, %16, 0\t\t# Set result count\n",
      "\taddi\t%17, %12, 4\t\t# lhs storage\n",
      "\tprint\t%17\n",
      "\taddi\t%18, %13, 4\t\t# lhs storage\n",
      "\tprint\t%18\n",
      "\taddi\t%19, %16, 4\t\t# destination storage\n",
      "\tprint\t%19\n",
      "\ttoy.buffer.add\t%20, %14, %17, %18\n",
      "\tli\t%21, 2\n",
      "\ttoy.alloc\t%22, %21, %0\n",
      "\tprint\t%22\n",
      "\tprint\t%11\n",
      "\tsw\t%11, %22, 0\t\t# Set tensor shape\n",
      "\tlw\t%23, %22, 0\n",
      "\tprint\t%23\n",
      "\tsw\t%16, %22, 4\t\t# Set tensor data\n",
      "\ttoy.tensor.print\t%22\n",
      "\tli\ta7, 93\n",
      "\tscall\n",
      "\n",
      "\n"
     ]
    }
   ],
   "source": [
    "code = print_riscv_ssa(riscv_0)\n",
    "print(code)\n",
    "print()"
   ]
  },
  {
   "cell_type": "code",
   "execution_count": null,
   "metadata": {},
   "outputs": [
    {
     "name": "stdout",
     "output_type": "stream",
     "text": [
      "\u001b[34m\u001b[1m[CPU] Started running from example.asm:.text at heap (0x100) + 0x450\u001b[0m\n",
      "Program(name=example.asm,sections=set(),base=['.bss', '.data', '.text'])\n",
      "\u001b[34m\u001b[1m   Running 0x00000550:\u001b[0m li %0, heap\n",
      "\u001b[34m\u001b[1m   Running 0x00000554:\u001b[0m li %1, main.tensor_shape.0\n",
      "\u001b[34m\u001b[1m   Running 0x00000558:\u001b[0m li %2, main.tensor_data.0\n",
      "\u001b[34m\u001b[1m   Running 0x0000055C:\u001b[0m li %3, 2\n",
      "\u001b[34m\u001b[1m   Running 0x00000560:\u001b[0m toy.alloc %4, %3, %0\n",
      "\u001b[34m\u001b[1m   Running 0x00000564:\u001b[0m print %4\n",
      "register %4 contains value 260\n",
      "\u001b[34m\u001b[1m   Running 0x00000568:\u001b[0m print %1\n",
      "register %1 contains value 1280\n",
      "\u001b[34m\u001b[1m   Running 0x0000056C:\u001b[0m sw %1, %4, 0\n",
      "\u001b[34m\u001b[1m   Running 0x00000570:\u001b[0m lw %5, %4, 0\n",
      "\u001b[34m\u001b[1m   Running 0x00000574:\u001b[0m print %5\n",
      "register %5 contains value 1280\n",
      "\u001b[34m\u001b[1m   Running 0x00000578:\u001b[0m sw %2, %4, 4\n",
      "\u001b[34m\u001b[1m   Running 0x0000057C:\u001b[0m li %6, main.tensor_shape.1\n",
      "\u001b[34m\u001b[1m   Running 0x00000580:\u001b[0m li %7, main.tensor_data.1\n",
      "\u001b[34m\u001b[1m   Running 0x00000584:\u001b[0m li %8, 2\n",
      "\u001b[34m\u001b[1m   Running 0x00000588:\u001b[0m toy.alloc %9, %8, %0\n",
      "\u001b[34m\u001b[1m   Running 0x0000058C:\u001b[0m print %9\n",
      "register %9 contains value 268\n",
      "\u001b[34m\u001b[1m   Running 0x00000590:\u001b[0m print %6\n",
      "register %6 contains value 1320\n",
      "\u001b[34m\u001b[1m   Running 0x00000594:\u001b[0m sw %6, %9, 0\n",
      "\u001b[34m\u001b[1m   Running 0x00000598:\u001b[0m lw %10, %9, 0\n",
      "\u001b[34m\u001b[1m   Running 0x0000059C:\u001b[0m print %10\n",
      "register %10 contains value 1320\n",
      "\u001b[34m\u001b[1m   Running 0x000005A0:\u001b[0m sw %7, %9, 4\n",
      "\u001b[34m\u001b[1m   Running 0x000005A4:\u001b[0m lw %11, %4, 0\n",
      "\u001b[34m\u001b[1m   Running 0x000005A8:\u001b[0m lw %12, %4, 4\n",
      "\u001b[34m\u001b[1m   Running 0x000005AC:\u001b[0m lw %13, %9, 4\n",
      "\u001b[34m\u001b[1m   Running 0x000005B0:\u001b[0m lw %14, %12, 0\n",
      "\u001b[34m\u001b[1m   Running 0x000005B4:\u001b[0m print %14\n",
      "register %14 contains value 6\n",
      "\u001b[34m\u001b[1m   Running 0x000005B8:\u001b[0m addi %15, %14, 4\n",
      "\u001b[34m\u001b[1m   Running 0x000005BC:\u001b[0m print %15\n",
      "register %15 contains value 10\n",
      "\u001b[34m\u001b[1m   Running 0x000005C0:\u001b[0m toy.alloc %16, %15, %0\n",
      "\u001b[34m\u001b[1m   Running 0x000005C4:\u001b[0m print %16\n",
      "register %16 contains value 276\n",
      "\u001b[34m\u001b[1m   Running 0x000005C8:\u001b[0m sw %14, %16, 0\n",
      "\u001b[34m\u001b[1m   Running 0x000005CC:\u001b[0m addi %17, %12, 4\n",
      "\u001b[34m\u001b[1m   Running 0x000005D0:\u001b[0m print %17\n",
      "register %17 contains value 1296\n",
      "\u001b[34m\u001b[1m   Running 0x000005D4:\u001b[0m addi %18, %13, 4\n",
      "\u001b[34m\u001b[1m   Running 0x000005D8:\u001b[0m print %18\n",
      "register %18 contains value 1336\n",
      "\u001b[34m\u001b[1m   Running 0x000005DC:\u001b[0m addi %19, %16, 4\n",
      "\u001b[34m\u001b[1m   Running 0x000005E0:\u001b[0m print %19\n",
      "register %19 contains value 280\n",
      "\u001b[34m\u001b[1m   Running 0x000005E4:\u001b[0m toy.buffer.add %20, %14, %17, %18\n",
      "\u001b[34m\u001b[1m   Running 0x000005E8:\u001b[0m li %21, 2\n",
      "\u001b[34m\u001b[1m   Running 0x000005EC:\u001b[0m toy.alloc %22, %21, %0\n",
      "\u001b[34m\u001b[1m   Running 0x000005F0:\u001b[0m print %22\n",
      "register %22 contains value 316\n",
      "\u001b[34m\u001b[1m   Running 0x000005F4:\u001b[0m print %11\n",
      "register %11 contains value 1280\n",
      "\u001b[34m\u001b[1m   Running 0x000005F8:\u001b[0m sw %11, %22, 0\n",
      "\u001b[34m\u001b[1m   Running 0x000005FC:\u001b[0m lw %23, %22, 0\n",
      "\u001b[34m\u001b[1m   Running 0x00000600:\u001b[0m print %23\n",
      "register %23 contains value 1280\n",
      "\u001b[34m\u001b[1m   Running 0x00000604:\u001b[0m sw %16, %22, 4\n",
      "\u001b[34m\u001b[1m   Running 0x00000608:\u001b[0m toy.tensor.print %22\n",
      "[[0, 0, 0], [0, 0, 0]]\n",
      "\u001b[34m\u001b[1m   Running 0x0000060C:\u001b[0m li a7, 93\n",
      "\u001b[34m\u001b[1m   Running 0x00000610:\u001b[0m scall \n",
      "\u001b[34m\u001b[1m[CPU] Program exited with code 0\u001b[0m\n"
     ]
    }
   ],
   "source": [
    "emulate_riscv(code)"
   ]
  },
  {
   "cell_type": "code",
   "execution_count": null,
   "metadata": {},
   "outputs": [
    {
     "data": {
      "text/plain": [
       "'0x1554'"
      ]
     },
     "execution_count": 4,
     "metadata": {},
     "output_type": "execute_result"
    }
   ],
   "source": [
    "hex(5460)"
   ]
  },
  {
   "cell_type": "code",
   "execution_count": null,
   "metadata": {},
   "outputs": [
    {
     "data": {
      "text/plain": [
       "6.0"
      ]
     },
     "execution_count": 5,
     "metadata": {},
     "output_type": "execute_result"
    }
   ],
   "source": [
    "0x1c / 4 - 1\n"
   ]
  },
  {
   "cell_type": "code",
   "execution_count": null,
   "metadata": {},
   "outputs": [],
   "source": []
  }
 ],
 "metadata": {
  "kernelspec": {
   "display_name": "Python 3",
   "language": "python",
   "name": "python3"
  },
  "language_info": {
   "codemirror_mode": {
    "name": "ipython",
    "version": 3
   },
   "file_extension": ".py",
   "mimetype": "text/x-python",
   "name": "python",
   "nbconvert_exporter": "python",
   "pygments_lexer": "ipython3",
   "version": "3.11.0"
  },
  "orig_nbformat": 4,
  "vscode": {
   "interpreter": {
    "hash": "8c189b674810d96af66833b07bd9a3fc1b15f37c11bf66e9bb86bed0f17aed6a"
   }
  }
 },
 "nbformat": 4,
 "nbformat_minor": 2
}

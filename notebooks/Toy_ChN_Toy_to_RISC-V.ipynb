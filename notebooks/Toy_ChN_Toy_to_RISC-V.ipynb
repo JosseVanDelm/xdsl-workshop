{
 "cells": [
  {
   "cell_type": "code",
   "execution_count": 1,
   "metadata": {},
   "outputs": [
    {
     "name": "stdout",
     "output_type": "stream",
     "text": [
      "\"builtin.module\"() ({\n",
      "  \"toy.func\"() ({\n",
      "    %0 = \"toy.constant\"() {\"value\" = dense<[[1, 2, 3], [4, 5, 6]]> : tensor<2x3xi32>} : () -> tensor<2x3xi32>\n",
      "    %1 = \"toy.constant\"() {\"value\" = dense<[[1, 2, 3], [4, 5, 6]]> : tensor<2x3xi32>} : () -> tensor<2x3xi32>\n",
      "    %2 = \"toy.add\"(%0, %1) : (tensor<2x3xi32>, tensor<2x3xi32>) -> tensor<2x3xi32>\n",
      "    \"toy.print\"(%2) : (tensor<2x3xi32>) -> ()\n",
      "    \"toy.return\"() : () -> ()\n",
      "  }) {\"sym_name\" = \"main\", \"function_type\" = () -> ()} : () -> ()\n",
      "}) : () -> ()\n",
      "\n"
     ]
    }
   ],
   "source": [
    "from __future__ import annotations\n",
    "\n",
    "from xdsl.dialects.builtin import ModuleOp\n",
    "\n",
    "from toy_to_riscv.helpers import (parse_toy, print_module, optimise_toy, lower_from_toy, \n",
    "                                  optimise_vir, lower_to_riscv, emulate_riscv)\n",
    "\n",
    "from riscv.emulator_iop import run_riscv, print_riscv_ssa\n",
    "\n",
    "import toy.dialect as td\n",
    "import riscv.riscv_ssa as rd\n",
    "import toy_to_riscv.dialect as trd\n",
    "\n",
    "### WIP\n",
    "\n",
    "example = \"\"\"\n",
    "def main() {\n",
    "  var a<2, 3> = [[1, 2, 3], [4, 5, 6]];\n",
    "  var b<6> = [1, 2, 3, 4, 5, 6];\n",
    "  var c<2, 3> = b;\n",
    "  var d = a + c;\n",
    "  print(d);\n",
    "}\n",
    "\"\"\"\n",
    "\n",
    "### WIP\n",
    "\n",
    "toy_0 = parse_toy(example)\n",
    "toy_1 = optimise_toy(toy_0)\n",
    "print_module(toy_1)\n",
    "print()"
   ]
  },
  {
   "cell_type": "code",
   "execution_count": 2,
   "metadata": {},
   "outputs": [
    {
     "name": "stdout",
     "output_type": "stream",
     "text": [
      "\"builtin.module\"() ({\n",
      "  \"toy.func\"() ({\n",
      "    %0 = \"riscv.toy.vector_constant\"() {\"data\" = [#int<2>, #int<3>], \"label\" = \"tensor_shape\"} : () -> #riscv_ssa.reg\n",
      "    %1 = \"riscv.toy.vector_constant\"() {\"data\" = [#int<1>, #int<2>, #int<3>, #int<4>, #int<5>, #int<6>], \"label\" = \"tensor_data\"} : () -> #riscv_ssa.reg\n",
      "    %2 = \"riscv.toy.tensor.make\"(%0, %1) : (#riscv_ssa.reg, #riscv_ssa.reg) -> #riscv_ssa.reg\n",
      "    %3 = \"riscv.toy.vector_constant\"() {\"data\" = [#int<2>, #int<3>], \"label\" = \"tensor_shape\"} : () -> #riscv_ssa.reg\n",
      "    %4 = \"riscv.toy.vector_constant\"() {\"data\" = [#int<1>, #int<2>, #int<3>, #int<4>, #int<5>, #int<6>], \"label\" = \"tensor_data\"} : () -> #riscv_ssa.reg\n",
      "    %5 = \"riscv.toy.tensor.make\"(%3, %4) : (#riscv_ssa.reg, #riscv_ssa.reg) -> #riscv_ssa.reg\n",
      "    %6 = \"riscv.toy.tensor.shape\"(%2) : (#riscv_ssa.reg) -> #riscv_ssa.reg\n",
      "    %7 = \"riscv.toy.tensor.data\"(%2) : (#riscv_ssa.reg) -> #riscv_ssa.reg\n",
      "    %8 = \"riscv.toy.tensor.data\"(%5) : (#riscv_ssa.reg) -> #riscv_ssa.reg\n",
      "    %9 = \"riscv.toy.vector.add\"(%7, %8) : (#riscv_ssa.reg, #riscv_ssa.reg) -> #riscv_ssa.reg\n",
      "    %10 = \"riscv.toy.tensor.make\"(%6, %9) : (#riscv_ssa.reg, #riscv_ssa.reg) -> #riscv_ssa.reg\n",
      "    \"toy.print\"(%10) : (#riscv_ssa.reg) -> ()\n",
      "    \"toy.return\"() : () -> ()\n",
      "  }) {\"sym_name\" = \"main\", \"function_type\" = () -> ()} : () -> ()\n",
      "}) : () -> ()\n",
      "\n",
      "\"builtin.module\"() ({\n",
      "  \"toy.func\"() ({\n",
      "    %0 = \"riscv.toy.vector_constant\"() {\"data\" = [#int<2>, #int<3>], \"label\" = \"tensor_shape\"} : () -> #riscv_ssa.reg\n",
      "    %1 = \"riscv.toy.vector_constant\"() {\"data\" = [#int<1>, #int<2>, #int<3>, #int<4>, #int<5>, #int<6>], \"label\" = \"tensor_data\"} : () -> #riscv_ssa.reg\n",
      "    %2 = \"riscv.toy.vector_constant\"() {\"data\" = [#int<2>, #int<3>], \"label\" = \"tensor_shape\"} : () -> #riscv_ssa.reg\n",
      "    %3 = \"riscv.toy.vector_constant\"() {\"data\" = [#int<1>, #int<2>, #int<3>, #int<4>, #int<5>, #int<6>], \"label\" = \"tensor_data\"} : () -> #riscv_ssa.reg\n",
      "    %4 = \"riscv.toy.vector.add\"(%1, %3) : (#riscv_ssa.reg, #riscv_ssa.reg) -> #riscv_ssa.reg\n",
      "    %5 = \"riscv.toy.tensor.make\"(%0, %4) : (#riscv_ssa.reg, #riscv_ssa.reg) -> #riscv_ssa.reg\n",
      "    \"toy.print\"(%5) : (#riscv_ssa.reg) -> ()\n",
      "    \"toy.return\"() : () -> ()\n",
      "  }) {\"sym_name\" = \"main\", \"function_type\" = () -> ()} : () -> ()\n",
      "}) : () -> ()\n",
      "\n"
     ]
    }
   ],
   "source": [
    "vir_0 = lower_from_toy(toy_1)\n",
    "print_module(vir_0)\n",
    "print()\n",
    "\n",
    "vir_1 = optimise_vir(vir_0)\n",
    "print_module(vir_1)\n",
    "print()"
   ]
  },
  {
   "cell_type": "code",
   "execution_count": 3,
   "metadata": {},
   "outputs": [
    {
     "name": "stdout",
     "output_type": "stream",
     "text": [
      "\"builtin.module\"() ({\n",
      "  \"riscv.section\"() ({\n",
      "    \"riscv_ssa.label\"() {\"label\" = #riscv.label<heap>} : () -> ()\n",
      "    \"riscv_ssa.directive\"() {\"directive\" = \".space\", \"value\" = \"1024\"} : () -> ()\n",
      "  }) {\"directive\" = \".bss\"} : () -> ()\n",
      "  \"riscv.section\"() ({\n",
      "    \"riscv_ssa.label\"() {\"label\" = #riscv.label<main.tensor_shape.0>} : () -> ()\n",
      "    \"riscv_ssa.directive\"() {\"directive\" = \".word\", \"value\" = \"0x2, 0x2, 0x3\"} : () -> ()\n",
      "    \"riscv_ssa.label\"() {\"label\" = #riscv.label<main.tensor_data.0>} : () -> ()\n",
      "    \"riscv_ssa.directive\"() {\"directive\" = \".word\", \"value\" = \"0x6, 0x1, 0x2, 0x3, 0x4, 0x5, 0x6\"} : () -> ()\n",
      "    \"riscv_ssa.label\"() {\"label\" = #riscv.label<main.tensor_shape.1>} : () -> ()\n",
      "    \"riscv_ssa.directive\"() {\"directive\" = \".word\", \"value\" = \"0x2, 0x2, 0x3\"} : () -> ()\n",
      "    \"riscv_ssa.label\"() {\"label\" = #riscv.label<main.tensor_data.1>} : () -> ()\n",
      "    \"riscv_ssa.directive\"() {\"directive\" = \".word\", \"value\" = \"0x6, 0x1, 0x2, 0x3, 0x4, 0x5, 0x6\"} : () -> ()\n",
      "  }) {\"directive\" = \".data\"} : () -> ()\n",
      "  \"riscv.section\"() ({\n",
      "    \"riscv_ssa.func\"() ({\n",
      "      %0 = \"riscv_ssa.li\"() {\"immediate\" = #riscv.label<heap>} : () -> #riscv_ssa.reg\n",
      "      %1 = \"riscv_ssa.li\"() {\"immediate\" = #riscv.label<main.tensor_shape.0>} : () -> #riscv_ssa.reg\n",
      "      %2 = \"riscv_ssa.li\"() {\"immediate\" = #riscv.label<main.tensor_data.0>} : () -> #riscv_ssa.reg\n",
      "      %3 = \"riscv_ssa.li\"() {\"immediate\" = #riscv.label<main.tensor_shape.1>} : () -> #riscv_ssa.reg\n",
      "      %4 = \"riscv_ssa.li\"() {\"immediate\" = #riscv.label<main.tensor_data.1>} : () -> #riscv_ssa.reg\n",
      "      %5 = \"riscv_ssa.lw\"(%2) {\"immediate\" = 0 : i32, \"comment\" = \"Get input count\"} : (#riscv_ssa.reg) -> #riscv_ssa.reg\n",
      "      %6 = \"riscv_ssa.addi\"(%5) {\"immediate\" = 1 : i32, \"comment\" = \"Input storage int32 count\"} : (#riscv_ssa.reg) -> #riscv_ssa.reg\n",
      "      %7 = \"riscv.toy.alloc\"(%6) : (#riscv_ssa.reg) -> #riscv_ssa.reg\n",
      "      \"riscv_ssa.sw\"(%5, %7) {\"immediate\" = 0 : i32, \"comment\" = \"Set result count\"} : (#riscv_ssa.reg, #riscv_ssa.reg) -> ()\n",
      "      %8 = \"riscv_ssa.addi\"(%2) {\"immediate\" = 4 : i32, \"comment\" = \"lhs storage\"} : (#riscv_ssa.reg) -> #riscv_ssa.reg\n",
      "      %9 = \"riscv_ssa.addi\"(%4) {\"immediate\" = 4 : i32, \"comment\" = \"lhs storage\"} : (#riscv_ssa.reg) -> #riscv_ssa.reg\n",
      "      %10 = \"riscv_ssa.addi\"(%7) {\"immediate\" = 4 : i32, \"comment\" = \"destination storage\"} : (#riscv_ssa.reg) -> #riscv_ssa.reg\n",
      "      \"riscv.toy.buffer.add\"(%5, %8, %10) : (#riscv_ssa.reg, #riscv_ssa.reg, #riscv_ssa.reg) -> ()\n",
      "      \"riscv.toy.buffer.add\"(%5, %9, %10) : (#riscv_ssa.reg, #riscv_ssa.reg, #riscv_ssa.reg) -> ()\n",
      "      %11 = \"riscv_ssa.li\"() {\"immediate\" = 2 : i32, \"comment\" = \"Tensor storage\"} : () -> #riscv_ssa.reg\n",
      "      %12 = \"riscv.toy.alloc\"(%11) : (#riscv_ssa.reg) -> #riscv_ssa.reg\n",
      "      \"riscv_ssa.sw\"(%1, %12) {\"immediate\" = 0 : i32, \"comment\" = \"Set tensor shape\"} : (#riscv_ssa.reg, #riscv_ssa.reg) -> ()\n",
      "      %13 = \"riscv_ssa.lw\"(%12) {\"immediate\" = 0 : i32} : (#riscv_ssa.reg) -> #riscv_ssa.reg\n",
      "      \"riscv_ssa.sw\"(%7, %12) {\"immediate\" = 4 : i32, \"comment\" = \"Set tensor data\"} : (#riscv_ssa.reg, #riscv_ssa.reg) -> ()\n",
      "      \"riscv.toy.tensor.print\"(%12) : (#riscv_ssa.reg) -> ()\n",
      "      \"riscv_ssa.return\"() : () -> ()\n",
      "    }) {\"func_name\" = \"main\"} : () -> ()\n",
      "  }) {\"directive\" = \".text\"} : () -> ()\n",
      "}) : () -> ()\n",
      "\n"
     ]
    }
   ],
   "source": [
    "riscv_0 = lower_to_riscv(vir_1)\n",
    "print_module(riscv_0)\n",
    "print()"
   ]
  },
  {
   "cell_type": "code",
   "execution_count": 4,
   "metadata": {},
   "outputs": [
    {
     "name": "stdout",
     "output_type": "stream",
     "text": [
      ".bss \n",
      "heap:\n",
      ".space 1024\n",
      ".data \n",
      "main.tensor_shape.0:\n",
      ".word 0x2, 0x2, 0x3\n",
      "main.tensor_data.0:\n",
      ".word 0x6, 0x1, 0x2, 0x3, 0x4, 0x5, 0x6\n",
      "main.tensor_shape.1:\n",
      ".word 0x2, 0x2, 0x3\n",
      "main.tensor_data.1:\n",
      ".word 0x6, 0x1, 0x2, 0x3, 0x4, 0x5, 0x6\n",
      ".text \n",
      "main:\n",
      "\tli\t%0, heap\n",
      "\tli\t%1, main.tensor_shape.0\n",
      "\tli\t%2, main.tensor_data.0\n",
      "\tli\t%3, main.tensor_shape.1\n",
      "\tli\t%4, main.tensor_data.1\n",
      "\tlw\t%5, %2, 0\t\t# Get input count\n",
      "\taddi\t%6, %5, 1\t\t# Input storage int32 count\n",
      "\ttoy.alloc\t%7, %6\n",
      "\tsw\t%5, %7, 0\t\t# Set result count\n",
      "\taddi\t%8, %2, 4\t\t# lhs storage\n",
      "\taddi\t%9, %4, 4\t\t# lhs storage\n",
      "\taddi\t%10, %7, 4\t\t# destination storage\n",
      "\ttoy.buffer.add\t%5, %8, %10\n",
      "\ttoy.buffer.add\t%5, %9, %10\n",
      "\tli\t%11, 2\n",
      "\ttoy.alloc\t%12, %11\n",
      "\tsw\t%1, %12, 0\t\t# Set tensor shape\n",
      "\tlw\t%13, %12, 0\n",
      "\tsw\t%7, %12, 4\t\t# Set tensor data\n",
      "\ttoy.tensor.print\t%12\n",
      "\tli\ta7, 93\n",
      "\tscall\n",
      "\n",
      "\n"
     ]
    }
   ],
   "source": [
    "code = print_riscv_ssa(riscv_0)\n",
    "print(code)\n",
    "print()"
   ]
  },
  {
   "cell_type": "code",
   "execution_count": 5,
   "metadata": {},
   "outputs": [
    {
     "name": "stdout",
     "output_type": "stream",
     "text": [
      "\u001b[34m\u001b[1m[CPU] Started running from example.asm:.text at heap (0x100) + 0x450\u001b[0m\n",
      "Program(name=example.asm,sections=set(),base=['.bss', '.data', '.text'])\n",
      "\u001b[34m\u001b[1m   Running 0x00000550:\u001b[0m li %0, heap\n",
      "\u001b[34m\u001b[1m   Running 0x00000554:\u001b[0m li %1, main.tensor_shape.0\n",
      "\u001b[34m\u001b[1m   Running 0x00000558:\u001b[0m li %2, main.tensor_data.0\n",
      "\u001b[34m\u001b[1m   Running 0x0000055C:\u001b[0m li %3, main.tensor_shape.1\n",
      "\u001b[34m\u001b[1m   Running 0x00000560:\u001b[0m li %4, main.tensor_data.1\n",
      "\u001b[34m\u001b[1m   Running 0x00000564:\u001b[0m lw %5, %2, 0\n",
      "\u001b[34m\u001b[1m   Running 0x00000568:\u001b[0m addi %6, %5, 1\n",
      "\u001b[34m\u001b[1m   Running 0x0000056C:\u001b[0m toy.alloc %7, %6\n",
      "\u001b[34m\u001b[1m   Running 0x00000570:\u001b[0m sw %5, %7, 0\n",
      "\u001b[34m\u001b[1m   Running 0x00000574:\u001b[0m addi %8, %2, 4\n",
      "\u001b[34m\u001b[1m   Running 0x00000578:\u001b[0m addi %9, %4, 4\n",
      "\u001b[34m\u001b[1m   Running 0x0000057C:\u001b[0m addi %10, %7, 4\n",
      "\u001b[34m\u001b[1m   Running 0x00000580:\u001b[0m toy.buffer.add %5, %8, %10\n",
      "\u001b[34m\u001b[1m   Running 0x00000584:\u001b[0m toy.buffer.add %5, %9, %10\n",
      "\u001b[34m\u001b[1m   Running 0x00000588:\u001b[0m li %11, 2\n",
      "\u001b[34m\u001b[1m   Running 0x0000058C:\u001b[0m toy.alloc %12, %11\n",
      "\u001b[34m\u001b[1m   Running 0x00000590:\u001b[0m sw %1, %12, 0\n",
      "\u001b[34m\u001b[1m   Running 0x00000594:\u001b[0m lw %13, %12, 0\n",
      "\u001b[34m\u001b[1m   Running 0x00000598:\u001b[0m sw %7, %12, 4\n",
      "\u001b[34m\u001b[1m   Running 0x0000059C:\u001b[0m toy.tensor.print %12\n",
      "[[2, 4, 6], [8, 10, 12]]\n",
      "\u001b[34m\u001b[1m   Running 0x000005A0:\u001b[0m li a7, 93\n",
      "\u001b[34m\u001b[1m   Running 0x000005A4:\u001b[0m scall \n",
      "\u001b[34m\u001b[1m[CPU] Program exited with code 0\u001b[0m\n"
     ]
    }
   ],
   "source": [
    "emulate_riscv(code)"
   ]
  },
  {
   "cell_type": "code",
   "execution_count": null,
   "metadata": {},
   "outputs": [],
   "source": []
  }
 ],
 "metadata": {
  "kernelspec": {
   "display_name": "Python 3 (ipykernel)",
   "language": "python",
   "name": "python3"
  },
  "language_info": {
   "codemirror_mode": {
    "name": "ipython",
    "version": 3
   },
   "file_extension": ".py",
   "mimetype": "text/x-python",
   "name": "python",
   "nbconvert_exporter": "python",
   "pygments_lexer": "ipython3",
   "version": "3.10.7"
  },
  "vscode": {
   "interpreter": {
    "hash": "0d6790b426e2d71827724f01810f2f8f578a9246b0feca7b7fe6fc65e1a78cd0"
   }
  }
 },
 "nbformat": 4,
 "nbformat_minor": 4
}
